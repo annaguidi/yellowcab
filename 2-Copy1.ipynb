{
 "cells": [
  {
   "cell_type": "code",
   "execution_count": 2,
   "metadata": {},
   "outputs": [],
   "source": [
    "import csv"
   ]
  },
  {
   "cell_type": "code",
   "execution_count": 3,
   "metadata": {},
   "outputs": [],
   "source": [
    "import pandas as pd\n",
    "import numpy as np"
   ]
  },
  {
   "cell_type": "code",
   "execution_count": 4,
   "metadata": {},
   "outputs": [],
   "source": [
    "import matplotlib.pyplot as plt\n",
    "from pandas import *\n",
    "import seaborn as sns\n",
    "from matplotlib import rcParams\n",
    "import datetime as dt"
   ]
  },
  {
   "cell_type": "code",
   "execution_count": 5,
   "metadata": {},
   "outputs": [],
   "source": [
    "import os\n",
    "import glob"
   ]
  },
  {
   "cell_type": "code",
   "execution_count": 6,
   "metadata": {},
   "outputs": [],
   "source": [
    "df = pd.read_csv('C:/Users/a.guidi/Desktop/side_project/yellowtaxi/2016_Yellow_Taxi_Trip_Data.csv')"
   ]
  },
  {
   "cell_type": "code",
   "execution_count": 7,
   "metadata": {},
   "outputs": [
    {
     "data": {
      "text/html": [
       "<div>\n",
       "<style scoped>\n",
       "    .dataframe tbody tr th:only-of-type {\n",
       "        vertical-align: middle;\n",
       "    }\n",
       "\n",
       "    .dataframe tbody tr th {\n",
       "        vertical-align: top;\n",
       "    }\n",
       "\n",
       "    .dataframe thead th {\n",
       "        text-align: right;\n",
       "    }\n",
       "</style>\n",
       "<table border=\"1\" class=\"dataframe\">\n",
       "  <thead>\n",
       "    <tr style=\"text-align: right;\">\n",
       "      <th></th>\n",
       "      <th>VendorID</th>\n",
       "      <th>tpep_pickup_datetime</th>\n",
       "      <th>tpep_dropoff_datetime</th>\n",
       "      <th>passenger_count</th>\n",
       "      <th>trip_distance</th>\n",
       "      <th>pickup_longitude</th>\n",
       "      <th>pickup_latitude</th>\n",
       "      <th>RatecodeID</th>\n",
       "      <th>store_and_fwd_flag</th>\n",
       "      <th>dropoff_longitude</th>\n",
       "      <th>...</th>\n",
       "      <th>payment_type</th>\n",
       "      <th>fare_amount</th>\n",
       "      <th>extra</th>\n",
       "      <th>mta_tax</th>\n",
       "      <th>tip_amount</th>\n",
       "      <th>tolls_amount</th>\n",
       "      <th>improvement_surcharge</th>\n",
       "      <th>total_amount</th>\n",
       "      <th>PULocationID</th>\n",
       "      <th>DOLocationID</th>\n",
       "    </tr>\n",
       "  </thead>\n",
       "  <tbody>\n",
       "    <tr>\n",
       "      <th>0</th>\n",
       "      <td>1</td>\n",
       "      <td>06/06/2016 12:00:00 AM</td>\n",
       "      <td>06/06/2016 12:16:57 AM</td>\n",
       "      <td>1</td>\n",
       "      <td>6.60</td>\n",
       "      <td>-73.946548</td>\n",
       "      <td>40.785099</td>\n",
       "      <td>1</td>\n",
       "      <td>N</td>\n",
       "      <td>-73.923866</td>\n",
       "      <td>...</td>\n",
       "      <td>3</td>\n",
       "      <td>20.0</td>\n",
       "      <td>0.5</td>\n",
       "      <td>0.5</td>\n",
       "      <td>0.00</td>\n",
       "      <td>0.00</td>\n",
       "      <td>0.3</td>\n",
       "      <td>21.30</td>\n",
       "      <td>NaN</td>\n",
       "      <td>NaN</td>\n",
       "    </tr>\n",
       "    <tr>\n",
       "      <th>1</th>\n",
       "      <td>2</td>\n",
       "      <td>06/06/2016 12:00:00 AM</td>\n",
       "      <td>06/06/2016 12:00:00 AM</td>\n",
       "      <td>1</td>\n",
       "      <td>4.27</td>\n",
       "      <td>-73.952385</td>\n",
       "      <td>40.741501</td>\n",
       "      <td>2</td>\n",
       "      <td>N</td>\n",
       "      <td>-74.004097</td>\n",
       "      <td>...</td>\n",
       "      <td>1</td>\n",
       "      <td>52.0</td>\n",
       "      <td>0.0</td>\n",
       "      <td>0.5</td>\n",
       "      <td>0.00</td>\n",
       "      <td>5.54</td>\n",
       "      <td>0.3</td>\n",
       "      <td>58.34</td>\n",
       "      <td>NaN</td>\n",
       "      <td>NaN</td>\n",
       "    </tr>\n",
       "    <tr>\n",
       "      <th>2</th>\n",
       "      <td>2</td>\n",
       "      <td>06/06/2016 12:00:00 AM</td>\n",
       "      <td>06/06/2016 06:07:49 PM</td>\n",
       "      <td>1</td>\n",
       "      <td>2.02</td>\n",
       "      <td>-73.978745</td>\n",
       "      <td>40.750641</td>\n",
       "      <td>1</td>\n",
       "      <td>N</td>\n",
       "      <td>-73.997108</td>\n",
       "      <td>...</td>\n",
       "      <td>1</td>\n",
       "      <td>10.0</td>\n",
       "      <td>1.3</td>\n",
       "      <td>0.5</td>\n",
       "      <td>1.25</td>\n",
       "      <td>0.00</td>\n",
       "      <td>0.3</td>\n",
       "      <td>13.35</td>\n",
       "      <td>NaN</td>\n",
       "      <td>NaN</td>\n",
       "    </tr>\n",
       "    <tr>\n",
       "      <th>3</th>\n",
       "      <td>2</td>\n",
       "      <td>06/06/2016 12:00:01 AM</td>\n",
       "      <td>06/06/2016 12:04:05 AM</td>\n",
       "      <td>2</td>\n",
       "      <td>1.37</td>\n",
       "      <td>-73.980690</td>\n",
       "      <td>40.742210</td>\n",
       "      <td>1</td>\n",
       "      <td>N</td>\n",
       "      <td>-73.967842</td>\n",
       "      <td>...</td>\n",
       "      <td>1</td>\n",
       "      <td>6.0</td>\n",
       "      <td>0.5</td>\n",
       "      <td>0.5</td>\n",
       "      <td>1.82</td>\n",
       "      <td>0.00</td>\n",
       "      <td>0.3</td>\n",
       "      <td>9.12</td>\n",
       "      <td>NaN</td>\n",
       "      <td>NaN</td>\n",
       "    </tr>\n",
       "    <tr>\n",
       "      <th>4</th>\n",
       "      <td>1</td>\n",
       "      <td>06/06/2016 12:00:02 AM</td>\n",
       "      <td>06/06/2016 12:03:36 AM</td>\n",
       "      <td>1</td>\n",
       "      <td>0.90</td>\n",
       "      <td>-73.986794</td>\n",
       "      <td>40.756310</td>\n",
       "      <td>1</td>\n",
       "      <td>N</td>\n",
       "      <td>-73.976067</td>\n",
       "      <td>...</td>\n",
       "      <td>2</td>\n",
       "      <td>5.0</td>\n",
       "      <td>0.5</td>\n",
       "      <td>0.5</td>\n",
       "      <td>0.00</td>\n",
       "      <td>0.00</td>\n",
       "      <td>0.3</td>\n",
       "      <td>6.30</td>\n",
       "      <td>NaN</td>\n",
       "      <td>NaN</td>\n",
       "    </tr>\n",
       "  </tbody>\n",
       "</table>\n",
       "<p>5 rows × 21 columns</p>\n",
       "</div>"
      ],
      "text/plain": [
       "   VendorID    tpep_pickup_datetime   tpep_dropoff_datetime  passenger_count  \\\n",
       "0         1  06/06/2016 12:00:00 AM  06/06/2016 12:16:57 AM                1   \n",
       "1         2  06/06/2016 12:00:00 AM  06/06/2016 12:00:00 AM                1   \n",
       "2         2  06/06/2016 12:00:00 AM  06/06/2016 06:07:49 PM                1   \n",
       "3         2  06/06/2016 12:00:01 AM  06/06/2016 12:04:05 AM                2   \n",
       "4         1  06/06/2016 12:00:02 AM  06/06/2016 12:03:36 AM                1   \n",
       "\n",
       "   trip_distance  pickup_longitude  pickup_latitude  RatecodeID  \\\n",
       "0           6.60        -73.946548        40.785099           1   \n",
       "1           4.27        -73.952385        40.741501           2   \n",
       "2           2.02        -73.978745        40.750641           1   \n",
       "3           1.37        -73.980690        40.742210           1   \n",
       "4           0.90        -73.986794        40.756310           1   \n",
       "\n",
       "  store_and_fwd_flag  dropoff_longitude  ...  payment_type  fare_amount  \\\n",
       "0                  N         -73.923866  ...             3         20.0   \n",
       "1                  N         -74.004097  ...             1         52.0   \n",
       "2                  N         -73.997108  ...             1         10.0   \n",
       "3                  N         -73.967842  ...             1          6.0   \n",
       "4                  N         -73.976067  ...             2          5.0   \n",
       "\n",
       "   extra  mta_tax  tip_amount  tolls_amount  improvement_surcharge  \\\n",
       "0    0.5      0.5        0.00          0.00                    0.3   \n",
       "1    0.0      0.5        0.00          5.54                    0.3   \n",
       "2    1.3      0.5        1.25          0.00                    0.3   \n",
       "3    0.5      0.5        1.82          0.00                    0.3   \n",
       "4    0.5      0.5        0.00          0.00                    0.3   \n",
       "\n",
       "   total_amount  PULocationID  DOLocationID  \n",
       "0         21.30           NaN           NaN  \n",
       "1         58.34           NaN           NaN  \n",
       "2         13.35           NaN           NaN  \n",
       "3          9.12           NaN           NaN  \n",
       "4          6.30           NaN           NaN  \n",
       "\n",
       "[5 rows x 21 columns]"
      ]
     },
     "execution_count": 7,
     "metadata": {},
     "output_type": "execute_result"
    }
   ],
   "source": [
    "df.head()"
   ]
  },
  {
   "cell_type": "code",
   "execution_count": 8,
   "metadata": {},
   "outputs": [
    {
     "data": {
      "text/plain": [
       "(2626843, 21)"
      ]
     },
     "execution_count": 8,
     "metadata": {},
     "output_type": "execute_result"
    }
   ],
   "source": [
    "df.shape"
   ]
  },
  {
   "cell_type": "code",
   "execution_count": 9,
   "metadata": {},
   "outputs": [
    {
     "name": "stdout",
     "output_type": "stream",
     "text": [
      "['VendorID', 'tpep_pickup_datetime', 'tpep_dropoff_datetime', 'passenger_count', 'trip_distance', 'pickup_longitude', 'pickup_latitude', 'RatecodeID', 'store_and_fwd_flag', 'dropoff_longitude', 'dropoff_latitude', 'payment_type', 'fare_amount', 'extra', 'mta_tax', 'tip_amount', 'tolls_amount', 'improvement_surcharge', 'total_amount', 'PULocationID', 'DOLocationID']\n"
     ]
    }
   ],
   "source": [
    "print(df.columns.tolist())"
   ]
  },
  {
   "cell_type": "code",
   "execution_count": 11,
   "metadata": {},
   "outputs": [],
   "source": [
    "df = df.drop(df.index[(df['pickup_longitude'] == df['dropoff_longitude']) & (df['pickup_latitude'] == df['dropoff_latitude'])])"
   ]
  },
  {
   "cell_type": "code",
   "execution_count": 12,
   "metadata": {},
   "outputs": [],
   "source": [
    "df['tpep_pickup_datetime'] = to_datetime(df['tpep_pickup_datetime'])"
   ]
  },
  {
   "cell_type": "code",
   "execution_count": 13,
   "metadata": {},
   "outputs": [],
   "source": [
    "df['tpep_dropoff_datetime'] = to_datetime(df['tpep_dropoff_datetime'])"
   ]
  },
  {
   "cell_type": "code",
   "execution_count": 14,
   "metadata": {},
   "outputs": [
    {
     "data": {
      "text/html": [
       "<div>\n",
       "<style scoped>\n",
       "    .dataframe tbody tr th:only-of-type {\n",
       "        vertical-align: middle;\n",
       "    }\n",
       "\n",
       "    .dataframe tbody tr th {\n",
       "        vertical-align: top;\n",
       "    }\n",
       "\n",
       "    .dataframe thead th {\n",
       "        text-align: right;\n",
       "    }\n",
       "</style>\n",
       "<table border=\"1\" class=\"dataframe\">\n",
       "  <thead>\n",
       "    <tr style=\"text-align: right;\">\n",
       "      <th></th>\n",
       "      <th>VendorID</th>\n",
       "      <th>tpep_pickup_datetime</th>\n",
       "      <th>tpep_dropoff_datetime</th>\n",
       "      <th>passenger_count</th>\n",
       "      <th>trip_distance</th>\n",
       "      <th>pickup_longitude</th>\n",
       "      <th>pickup_latitude</th>\n",
       "      <th>RatecodeID</th>\n",
       "      <th>store_and_fwd_flag</th>\n",
       "      <th>dropoff_longitude</th>\n",
       "      <th>...</th>\n",
       "      <th>payment_type</th>\n",
       "      <th>fare_amount</th>\n",
       "      <th>extra</th>\n",
       "      <th>mta_tax</th>\n",
       "      <th>tip_amount</th>\n",
       "      <th>tolls_amount</th>\n",
       "      <th>improvement_surcharge</th>\n",
       "      <th>total_amount</th>\n",
       "      <th>PULocationID</th>\n",
       "      <th>DOLocationID</th>\n",
       "    </tr>\n",
       "  </thead>\n",
       "  <tbody>\n",
       "    <tr>\n",
       "      <th>0</th>\n",
       "      <td>1</td>\n",
       "      <td>2016-06-06 00:00:00</td>\n",
       "      <td>2016-06-06 00:16:57</td>\n",
       "      <td>1</td>\n",
       "      <td>6.60</td>\n",
       "      <td>-73.946548</td>\n",
       "      <td>40.785099</td>\n",
       "      <td>1</td>\n",
       "      <td>N</td>\n",
       "      <td>-73.923866</td>\n",
       "      <td>...</td>\n",
       "      <td>3</td>\n",
       "      <td>20.0</td>\n",
       "      <td>0.5</td>\n",
       "      <td>0.5</td>\n",
       "      <td>0.00</td>\n",
       "      <td>0.00</td>\n",
       "      <td>0.3</td>\n",
       "      <td>21.30</td>\n",
       "      <td>NaN</td>\n",
       "      <td>NaN</td>\n",
       "    </tr>\n",
       "    <tr>\n",
       "      <th>1</th>\n",
       "      <td>2</td>\n",
       "      <td>2016-06-06 00:00:00</td>\n",
       "      <td>2016-06-06 00:00:00</td>\n",
       "      <td>1</td>\n",
       "      <td>4.27</td>\n",
       "      <td>-73.952385</td>\n",
       "      <td>40.741501</td>\n",
       "      <td>2</td>\n",
       "      <td>N</td>\n",
       "      <td>-74.004097</td>\n",
       "      <td>...</td>\n",
       "      <td>1</td>\n",
       "      <td>52.0</td>\n",
       "      <td>0.0</td>\n",
       "      <td>0.5</td>\n",
       "      <td>0.00</td>\n",
       "      <td>5.54</td>\n",
       "      <td>0.3</td>\n",
       "      <td>58.34</td>\n",
       "      <td>NaN</td>\n",
       "      <td>NaN</td>\n",
       "    </tr>\n",
       "    <tr>\n",
       "      <th>2</th>\n",
       "      <td>2</td>\n",
       "      <td>2016-06-06 00:00:00</td>\n",
       "      <td>2016-06-06 18:07:49</td>\n",
       "      <td>1</td>\n",
       "      <td>2.02</td>\n",
       "      <td>-73.978745</td>\n",
       "      <td>40.750641</td>\n",
       "      <td>1</td>\n",
       "      <td>N</td>\n",
       "      <td>-73.997108</td>\n",
       "      <td>...</td>\n",
       "      <td>1</td>\n",
       "      <td>10.0</td>\n",
       "      <td>1.3</td>\n",
       "      <td>0.5</td>\n",
       "      <td>1.25</td>\n",
       "      <td>0.00</td>\n",
       "      <td>0.3</td>\n",
       "      <td>13.35</td>\n",
       "      <td>NaN</td>\n",
       "      <td>NaN</td>\n",
       "    </tr>\n",
       "    <tr>\n",
       "      <th>3</th>\n",
       "      <td>2</td>\n",
       "      <td>2016-06-06 00:00:01</td>\n",
       "      <td>2016-06-06 00:04:05</td>\n",
       "      <td>2</td>\n",
       "      <td>1.37</td>\n",
       "      <td>-73.980690</td>\n",
       "      <td>40.742210</td>\n",
       "      <td>1</td>\n",
       "      <td>N</td>\n",
       "      <td>-73.967842</td>\n",
       "      <td>...</td>\n",
       "      <td>1</td>\n",
       "      <td>6.0</td>\n",
       "      <td>0.5</td>\n",
       "      <td>0.5</td>\n",
       "      <td>1.82</td>\n",
       "      <td>0.00</td>\n",
       "      <td>0.3</td>\n",
       "      <td>9.12</td>\n",
       "      <td>NaN</td>\n",
       "      <td>NaN</td>\n",
       "    </tr>\n",
       "    <tr>\n",
       "      <th>4</th>\n",
       "      <td>1</td>\n",
       "      <td>2016-06-06 00:00:02</td>\n",
       "      <td>2016-06-06 00:03:36</td>\n",
       "      <td>1</td>\n",
       "      <td>0.90</td>\n",
       "      <td>-73.986794</td>\n",
       "      <td>40.756310</td>\n",
       "      <td>1</td>\n",
       "      <td>N</td>\n",
       "      <td>-73.976067</td>\n",
       "      <td>...</td>\n",
       "      <td>2</td>\n",
       "      <td>5.0</td>\n",
       "      <td>0.5</td>\n",
       "      <td>0.5</td>\n",
       "      <td>0.00</td>\n",
       "      <td>0.00</td>\n",
       "      <td>0.3</td>\n",
       "      <td>6.30</td>\n",
       "      <td>NaN</td>\n",
       "      <td>NaN</td>\n",
       "    </tr>\n",
       "  </tbody>\n",
       "</table>\n",
       "<p>5 rows × 21 columns</p>\n",
       "</div>"
      ],
      "text/plain": [
       "   VendorID tpep_pickup_datetime tpep_dropoff_datetime  passenger_count  \\\n",
       "0         1  2016-06-06 00:00:00   2016-06-06 00:16:57                1   \n",
       "1         2  2016-06-06 00:00:00   2016-06-06 00:00:00                1   \n",
       "2         2  2016-06-06 00:00:00   2016-06-06 18:07:49                1   \n",
       "3         2  2016-06-06 00:00:01   2016-06-06 00:04:05                2   \n",
       "4         1  2016-06-06 00:00:02   2016-06-06 00:03:36                1   \n",
       "\n",
       "   trip_distance  pickup_longitude  pickup_latitude  RatecodeID  \\\n",
       "0           6.60        -73.946548        40.785099           1   \n",
       "1           4.27        -73.952385        40.741501           2   \n",
       "2           2.02        -73.978745        40.750641           1   \n",
       "3           1.37        -73.980690        40.742210           1   \n",
       "4           0.90        -73.986794        40.756310           1   \n",
       "\n",
       "  store_and_fwd_flag  dropoff_longitude  ...  payment_type  fare_amount  \\\n",
       "0                  N         -73.923866  ...             3         20.0   \n",
       "1                  N         -74.004097  ...             1         52.0   \n",
       "2                  N         -73.997108  ...             1         10.0   \n",
       "3                  N         -73.967842  ...             1          6.0   \n",
       "4                  N         -73.976067  ...             2          5.0   \n",
       "\n",
       "   extra  mta_tax  tip_amount  tolls_amount  improvement_surcharge  \\\n",
       "0    0.5      0.5        0.00          0.00                    0.3   \n",
       "1    0.0      0.5        0.00          5.54                    0.3   \n",
       "2    1.3      0.5        1.25          0.00                    0.3   \n",
       "3    0.5      0.5        1.82          0.00                    0.3   \n",
       "4    0.5      0.5        0.00          0.00                    0.3   \n",
       "\n",
       "   total_amount  PULocationID  DOLocationID  \n",
       "0         21.30           NaN           NaN  \n",
       "1         58.34           NaN           NaN  \n",
       "2         13.35           NaN           NaN  \n",
       "3          9.12           NaN           NaN  \n",
       "4          6.30           NaN           NaN  \n",
       "\n",
       "[5 rows x 21 columns]"
      ]
     },
     "execution_count": 14,
     "metadata": {},
     "output_type": "execute_result"
    }
   ],
   "source": [
    "df.head()"
   ]
  },
  {
   "cell_type": "code",
   "execution_count": 15,
   "metadata": {},
   "outputs": [],
   "source": [
    "df = df.drop(df.index[(df.tpep_dropoff_datetime-df.tpep_pickup_datetime).astype('timedelta64[s]') < 95])"
   ]
  },
  {
   "cell_type": "code",
   "execution_count": 16,
   "metadata": {},
   "outputs": [
    {
     "data": {
      "text/plain": [
       "2559609"
      ]
     },
     "execution_count": 16,
     "metadata": {},
     "output_type": "execute_result"
    }
   ],
   "source": [
    "--2559609"
   ]
  },
  {
   "cell_type": "code",
   "execution_count": 17,
   "metadata": {},
   "outputs": [],
   "source": [
    "df = df.drop(df.index[df.passenger_count == 0])\n",
    "#ok"
   ]
  },
  {
   "cell_type": "code",
   "execution_count": 18,
   "metadata": {},
   "outputs": [
    {
     "data": {
      "text/plain": [
       "(2556812, 21)"
      ]
     },
     "execution_count": 18,
     "metadata": {},
     "output_type": "execute_result"
    }
   ],
   "source": [
    "df.shape"
   ]
  },
  {
   "cell_type": "code",
   "execution_count": 19,
   "metadata": {},
   "outputs": [
    {
     "data": {
      "text/plain": [
       "VendorID                 747125\n",
       "tpep_pickup_datetime     747125\n",
       "tpep_dropoff_datetime    747125\n",
       "passenger_count          747125\n",
       "trip_distance            747125\n",
       "pickup_longitude         747125\n",
       "pickup_latitude          747125\n",
       "RatecodeID               747125\n",
       "store_and_fwd_flag       747125\n",
       "dropoff_longitude        747125\n",
       "dropoff_latitude         747125\n",
       "payment_type             747125\n",
       "fare_amount              747125\n",
       "extra                    747125\n",
       "mta_tax                  747125\n",
       "tip_amount               747125\n",
       "tolls_amount             747125\n",
       "improvement_surcharge    747125\n",
       "total_amount             747125\n",
       "PULocationID                  0\n",
       "DOLocationID                  0\n",
       "dtype: int64"
      ]
     },
     "execution_count": 19,
     "metadata": {},
     "output_type": "execute_result"
    }
   ],
   "source": [
    "df[df['passenger_count'] > 1].count()"
   ]
  },
  {
   "cell_type": "code",
   "execution_count": 20,
   "metadata": {},
   "outputs": [
    {
     "data": {
      "text/plain": [
       "passenger_count\n",
       "1    1809687\n",
       "2     372610\n",
       "3     107552\n",
       "4      50783\n",
       "5     134102\n",
       "6      82075\n",
       "7          2\n",
       "8          1\n",
       "dtype: int64"
      ]
     },
     "execution_count": 20,
     "metadata": {},
     "output_type": "execute_result"
    }
   ],
   "source": [
    "df.groupby('passenger_count').size()"
   ]
  },
  {
   "cell_type": "code",
   "execution_count": 21,
   "metadata": {},
   "outputs": [],
   "source": [
    "df2 = df"
   ]
  },
  {
   "cell_type": "code",
   "execution_count": 22,
   "metadata": {},
   "outputs": [],
   "source": [
    "df2 = df2.loc[df2.index.repeat(df.passenger_count)]"
   ]
  },
  {
   "cell_type": "code",
   "execution_count": 23,
   "metadata": {},
   "outputs": [
    {
     "data": {
      "text/plain": [
       "(4243677, 21)"
      ]
     },
     "execution_count": 23,
     "metadata": {},
     "output_type": "execute_result"
    }
   ],
   "source": [
    "df2.shape"
   ]
  },
  {
   "cell_type": "code",
   "execution_count": 24,
   "metadata": {},
   "outputs": [
    {
     "data": {
      "text/html": [
       "<div>\n",
       "<style scoped>\n",
       "    .dataframe tbody tr th:only-of-type {\n",
       "        vertical-align: middle;\n",
       "    }\n",
       "\n",
       "    .dataframe tbody tr th {\n",
       "        vertical-align: top;\n",
       "    }\n",
       "\n",
       "    .dataframe thead th {\n",
       "        text-align: right;\n",
       "    }\n",
       "</style>\n",
       "<table border=\"1\" class=\"dataframe\">\n",
       "  <thead>\n",
       "    <tr style=\"text-align: right;\">\n",
       "      <th></th>\n",
       "      <th>VendorID</th>\n",
       "      <th>tpep_pickup_datetime</th>\n",
       "      <th>tpep_dropoff_datetime</th>\n",
       "      <th>passenger_count</th>\n",
       "      <th>trip_distance</th>\n",
       "      <th>pickup_longitude</th>\n",
       "      <th>pickup_latitude</th>\n",
       "      <th>RatecodeID</th>\n",
       "      <th>store_and_fwd_flag</th>\n",
       "      <th>dropoff_longitude</th>\n",
       "      <th>...</th>\n",
       "      <th>payment_type</th>\n",
       "      <th>fare_amount</th>\n",
       "      <th>extra</th>\n",
       "      <th>mta_tax</th>\n",
       "      <th>tip_amount</th>\n",
       "      <th>tolls_amount</th>\n",
       "      <th>improvement_surcharge</th>\n",
       "      <th>total_amount</th>\n",
       "      <th>PULocationID</th>\n",
       "      <th>DOLocationID</th>\n",
       "    </tr>\n",
       "  </thead>\n",
       "  <tbody>\n",
       "    <tr>\n",
       "      <th>0</th>\n",
       "      <td>1</td>\n",
       "      <td>2016-06-06 00:00:00</td>\n",
       "      <td>2016-06-06 00:16:57</td>\n",
       "      <td>1</td>\n",
       "      <td>6.60</td>\n",
       "      <td>-73.946548</td>\n",
       "      <td>40.785099</td>\n",
       "      <td>1</td>\n",
       "      <td>N</td>\n",
       "      <td>-73.923866</td>\n",
       "      <td>...</td>\n",
       "      <td>3</td>\n",
       "      <td>20.0</td>\n",
       "      <td>0.5</td>\n",
       "      <td>0.5</td>\n",
       "      <td>0.00</td>\n",
       "      <td>0.0</td>\n",
       "      <td>0.3</td>\n",
       "      <td>21.30</td>\n",
       "      <td>NaN</td>\n",
       "      <td>NaN</td>\n",
       "    </tr>\n",
       "    <tr>\n",
       "      <th>2</th>\n",
       "      <td>2</td>\n",
       "      <td>2016-06-06 00:00:00</td>\n",
       "      <td>2016-06-06 18:07:49</td>\n",
       "      <td>1</td>\n",
       "      <td>2.02</td>\n",
       "      <td>-73.978745</td>\n",
       "      <td>40.750641</td>\n",
       "      <td>1</td>\n",
       "      <td>N</td>\n",
       "      <td>-73.997108</td>\n",
       "      <td>...</td>\n",
       "      <td>1</td>\n",
       "      <td>10.0</td>\n",
       "      <td>1.3</td>\n",
       "      <td>0.5</td>\n",
       "      <td>1.25</td>\n",
       "      <td>0.0</td>\n",
       "      <td>0.3</td>\n",
       "      <td>13.35</td>\n",
       "      <td>NaN</td>\n",
       "      <td>NaN</td>\n",
       "    </tr>\n",
       "    <tr>\n",
       "      <th>3</th>\n",
       "      <td>2</td>\n",
       "      <td>2016-06-06 00:00:01</td>\n",
       "      <td>2016-06-06 00:04:05</td>\n",
       "      <td>2</td>\n",
       "      <td>1.37</td>\n",
       "      <td>-73.980690</td>\n",
       "      <td>40.742210</td>\n",
       "      <td>1</td>\n",
       "      <td>N</td>\n",
       "      <td>-73.967842</td>\n",
       "      <td>...</td>\n",
       "      <td>1</td>\n",
       "      <td>6.0</td>\n",
       "      <td>0.5</td>\n",
       "      <td>0.5</td>\n",
       "      <td>1.82</td>\n",
       "      <td>0.0</td>\n",
       "      <td>0.3</td>\n",
       "      <td>9.12</td>\n",
       "      <td>NaN</td>\n",
       "      <td>NaN</td>\n",
       "    </tr>\n",
       "    <tr>\n",
       "      <th>3</th>\n",
       "      <td>2</td>\n",
       "      <td>2016-06-06 00:00:01</td>\n",
       "      <td>2016-06-06 00:04:05</td>\n",
       "      <td>2</td>\n",
       "      <td>1.37</td>\n",
       "      <td>-73.980690</td>\n",
       "      <td>40.742210</td>\n",
       "      <td>1</td>\n",
       "      <td>N</td>\n",
       "      <td>-73.967842</td>\n",
       "      <td>...</td>\n",
       "      <td>1</td>\n",
       "      <td>6.0</td>\n",
       "      <td>0.5</td>\n",
       "      <td>0.5</td>\n",
       "      <td>1.82</td>\n",
       "      <td>0.0</td>\n",
       "      <td>0.3</td>\n",
       "      <td>9.12</td>\n",
       "      <td>NaN</td>\n",
       "      <td>NaN</td>\n",
       "    </tr>\n",
       "    <tr>\n",
       "      <th>4</th>\n",
       "      <td>1</td>\n",
       "      <td>2016-06-06 00:00:02</td>\n",
       "      <td>2016-06-06 00:03:36</td>\n",
       "      <td>1</td>\n",
       "      <td>0.90</td>\n",
       "      <td>-73.986794</td>\n",
       "      <td>40.756310</td>\n",
       "      <td>1</td>\n",
       "      <td>N</td>\n",
       "      <td>-73.976067</td>\n",
       "      <td>...</td>\n",
       "      <td>2</td>\n",
       "      <td>5.0</td>\n",
       "      <td>0.5</td>\n",
       "      <td>0.5</td>\n",
       "      <td>0.00</td>\n",
       "      <td>0.0</td>\n",
       "      <td>0.3</td>\n",
       "      <td>6.30</td>\n",
       "      <td>NaN</td>\n",
       "      <td>NaN</td>\n",
       "    </tr>\n",
       "  </tbody>\n",
       "</table>\n",
       "<p>5 rows × 21 columns</p>\n",
       "</div>"
      ],
      "text/plain": [
       "   VendorID tpep_pickup_datetime tpep_dropoff_datetime  passenger_count  \\\n",
       "0         1  2016-06-06 00:00:00   2016-06-06 00:16:57                1   \n",
       "2         2  2016-06-06 00:00:00   2016-06-06 18:07:49                1   \n",
       "3         2  2016-06-06 00:00:01   2016-06-06 00:04:05                2   \n",
       "3         2  2016-06-06 00:00:01   2016-06-06 00:04:05                2   \n",
       "4         1  2016-06-06 00:00:02   2016-06-06 00:03:36                1   \n",
       "\n",
       "   trip_distance  pickup_longitude  pickup_latitude  RatecodeID  \\\n",
       "0           6.60        -73.946548        40.785099           1   \n",
       "2           2.02        -73.978745        40.750641           1   \n",
       "3           1.37        -73.980690        40.742210           1   \n",
       "3           1.37        -73.980690        40.742210           1   \n",
       "4           0.90        -73.986794        40.756310           1   \n",
       "\n",
       "  store_and_fwd_flag  dropoff_longitude  ...  payment_type  fare_amount  \\\n",
       "0                  N         -73.923866  ...             3         20.0   \n",
       "2                  N         -73.997108  ...             1         10.0   \n",
       "3                  N         -73.967842  ...             1          6.0   \n",
       "3                  N         -73.967842  ...             1          6.0   \n",
       "4                  N         -73.976067  ...             2          5.0   \n",
       "\n",
       "   extra  mta_tax  tip_amount  tolls_amount  improvement_surcharge  \\\n",
       "0    0.5      0.5        0.00           0.0                    0.3   \n",
       "2    1.3      0.5        1.25           0.0                    0.3   \n",
       "3    0.5      0.5        1.82           0.0                    0.3   \n",
       "3    0.5      0.5        1.82           0.0                    0.3   \n",
       "4    0.5      0.5        0.00           0.0                    0.3   \n",
       "\n",
       "   total_amount  PULocationID  DOLocationID  \n",
       "0         21.30           NaN           NaN  \n",
       "2         13.35           NaN           NaN  \n",
       "3          9.12           NaN           NaN  \n",
       "3          9.12           NaN           NaN  \n",
       "4          6.30           NaN           NaN  \n",
       "\n",
       "[5 rows x 21 columns]"
      ]
     },
     "execution_count": 24,
     "metadata": {},
     "output_type": "execute_result"
    }
   ],
   "source": [
    "df2.head()"
   ]
  },
  {
   "cell_type": "code",
   "execution_count": 25,
   "metadata": {},
   "outputs": [],
   "source": [
    "df2 = df2.drop(df2.index[df2.passenger_count > 3])"
   ]
  },
  {
   "cell_type": "code",
   "execution_count": 28,
   "metadata": {},
   "outputs": [
    {
     "data": {
      "text/plain": [
       "(2877563, 21)"
      ]
     },
     "execution_count": 28,
     "metadata": {},
     "output_type": "execute_result"
    }
   ],
   "source": [
    "df2.shape"
   ]
  },
  {
   "cell_type": "code",
   "execution_count": 90,
   "metadata": {},
   "outputs": [],
   "source": [
    "df_timestamp = min(df2['tpep_pickup_datetime']) + timedelta(minutes = 5)"
   ]
  },
  {
   "cell_type": "code",
   "execution_count": 87,
   "metadata": {},
   "outputs": [],
   "source": [
    "max_timestamp = max(df2['tpep_pickup_datetime'])"
   ]
  },
  {
   "cell_type": "code",
   "execution_count": 88,
   "metadata": {},
   "outputs": [],
   "source": [
    "time_increments = []"
   ]
  },
  {
   "cell_type": "code",
   "execution_count": 92,
   "metadata": {},
   "outputs": [],
   "source": [
    "while df_timestamp <= max_timestamp:\n",
    "    df_timestamp += timedelta(minutes = 5)\n",
    "    time_increments.append(df_timestamp)"
   ]
  },
  {
   "cell_type": "code",
   "execution_count": 34,
   "metadata": {},
   "outputs": [],
   "source": [
    "testanna = df2[df2['tpep_pickup_datetime'] < starting_timestamp]"
   ]
  },
  {
   "cell_type": "code",
   "execution_count": 36,
   "metadata": {},
   "outputs": [
    {
     "data": {
      "text/plain": [
       "(765, 21)"
      ]
     },
     "execution_count": 36,
     "metadata": {},
     "output_type": "execute_result"
    }
   ],
   "source": [
    "testanna.shape"
   ]
  },
  {
   "cell_type": "code",
   "execution_count": 37,
   "metadata": {},
   "outputs": [],
   "source": [
    "from sklearn.cluster import KMeans"
   ]
  },
  {
   "cell_type": "code",
   "execution_count": 42,
   "metadata": {},
   "outputs": [
    {
     "name": "stdout",
     "output_type": "stream",
     "text": [
      "The scikit-learn version is 0.20.3.\n"
     ]
    }
   ],
   "source": [
    "print('The scikit-learn version is {}.'.format(sklearn.__version__))"
   ]
  },
  {
   "cell_type": "code",
   "execution_count": 44,
   "metadata": {},
   "outputs": [],
   "source": [
    "from sklearn.cluster import AgglomerativeClustering"
   ]
  },
  {
   "cell_type": "code",
   "execution_count": 152,
   "metadata": {},
   "outputs": [],
   "source": [
    "test = testanna[['pickup_latitude','pickup_longitude','dropoff_latitude','dropoff_longitude']].values"
   ]
  },
  {
   "cell_type": "code",
   "execution_count": 153,
   "metadata": {},
   "outputs": [
    {
     "data": {
      "text/plain": [
       "array([ 40.78509903, -73.94654846,  40.80770493, -73.92386627])"
      ]
     },
     "execution_count": 153,
     "metadata": {},
     "output_type": "execute_result"
    }
   ],
   "source": [
    "test[0]"
   ]
  },
  {
   "cell_type": "code",
   "execution_count": 154,
   "metadata": {},
   "outputs": [],
   "source": [
    "import matplotlib.pyplot as plt\n",
    "from scipy.cluster.hierarchy import dendrogram, linkage"
   ]
  },
  {
   "cell_type": "code",
   "execution_count": 155,
   "metadata": {},
   "outputs": [],
   "source": [
    "Z = linkage(test, method='ward',  # dissimilarity metric: max distance across all pairs of records between two clusters,\n",
    "            metric='euclidean')  "
   ]
  },
  {
   "cell_type": "code",
   "execution_count": 156,
   "metadata": {},
   "outputs": [
    {
     "data": {
      "image/png": "[encoded data removed]",
      "text/plain": [
       "<Figure size 2160x720 with 1 Axes>"
      ]
     },
     "metadata": {
      "needs_background": "light"
     },
     "output_type": "display_data"
    }
   ],
   "source": [
    "plt.figure(figsize=(30, 10))\n",
    "dendrogram(Z)\n",
    "plt.show()"
   ]
  },
  {
   "cell_type": "code",
   "execution_count": 157,
   "metadata": {},
   "outputs": [
    {
     "data": {
      "text/plain": [
       "array([[9.40000000e+01, 9.50000000e+01, 0.00000000e+00, 2.00000000e+00],\n",
       "       [2.30000000e+02, 2.31000000e+02, 0.00000000e+00, 2.00000000e+00],\n",
       "       [2.32000000e+02, 7.66000000e+02, 0.00000000e+00, 3.00000000e+00],\n",
       "       ...,\n",
       "       [1.51800000e+03, 1.52400000e+03, 1.32238997e+00, 1.56000000e+02],\n",
       "       [1.52500000e+03, 1.52600000e+03, 2.41813077e+00, 7.61000000e+02],\n",
       "       [1.48200000e+03, 1.52700000e+03, 2.38183796e+02, 7.65000000e+02]])"
      ]
     },
     "execution_count": 157,
     "metadata": {},
     "output_type": "execute_result"
    }
   ],
   "source": [
    "Z"
   ]
  },
  {
   "cell_type": "code",
   "execution_count": 136,
   "metadata": {},
   "outputs": [],
   "source": [
    "from scipy.cluster.hierarchy import fcluster"
   ]
  },
  {
   "cell_type": "code",
   "execution_count": 137,
   "metadata": {},
   "outputs": [],
   "source": [
    "max_d = .015"
   ]
  },
  {
   "cell_type": "code",
   "execution_count": 138,
   "metadata": {},
   "outputs": [],
   "source": [
    "clusters = fcluster(Z, max_d, criterion='distance')"
   ]
  },
  {
   "cell_type": "code",
   "execution_count": 139,
   "metadata": {},
   "outputs": [
    {
     "data": {
      "text/plain": [
       "array([ 10, 201,  49,  49, 242, 231,  61, 306, 160, 276, 264, 264, 296,\n",
       "       171, 177, 144, 211, 339, 210,  62, 168,  22, 289,   3, 323,  68,\n",
       "        68, 266, 154, 143, 227, 139, 139, 231, 152, 249, 249, 192, 269,\n",
       "       269, 193, 170, 240, 340, 253, 171, 201,  78,  44,  44, 108, 149,\n",
       "       211, 211,  21,  97, 208, 208, 297,   1, 239, 125, 125,  97,  97,\n",
       "       339, 174, 174, 174, 196, 183,  59, 274, 274, 274,  89,  92,  52,\n",
       "        42, 197, 144,  50, 192,  91, 291, 167, 252, 254,  99, 243,  38,\n",
       "       158, 145, 199,  11,  11, 239,  81, 145, 122, 122, 122, 270, 271,\n",
       "       143, 131,  91, 217, 217,  50,  50, 248, 209, 136, 126, 145, 318,\n",
       "       171, 171, 322,  87,  87,  87,  48,  80,  55,  89,  89, 233, 200,\n",
       "       200, 295, 295, 295, 227, 227, 227,  32,  32,  29, 253, 269, 194,\n",
       "       194, 253, 334, 100,  50, 250,  56, 327, 205, 296,  17,  49, 215,\n",
       "       215,  19, 252, 307, 197, 212, 148, 332, 243, 160, 160, 159, 114,\n",
       "       127, 237, 237, 217, 217,   5, 196, 328, 255, 134,  31, 193, 148,\n",
       "       324,  77, 263, 263, 176, 273, 169, 246, 131, 317, 317, 298, 268,\n",
       "       184, 184,  69, 247,  33, 286, 286,  71, 151, 151, 151,  62, 294,\n",
       "       228, 263,  72, 166, 161, 304, 196,  31, 242, 132, 251, 121, 121,\n",
       "        34, 150, 217, 270,  47, 278, 162,  49, 307,  57,  57,  57, 113,\n",
       "       175,  51,  74, 198, 198,  43,  43, 247, 129, 129, 240, 170,  94,\n",
       "       147, 190, 329, 273, 302,  26, 261, 261, 172, 172, 172, 207, 150,\n",
       "       184, 184, 279, 150, 165, 184, 288, 173, 196, 196, 267, 169, 169,\n",
       "       238, 238, 238, 240,  37, 309, 309, 309,  39, 260,   9, 105, 186,\n",
       "       186, 163, 163, 269, 111, 168,  46,  46, 247, 247, 247, 233, 262,\n",
       "       262, 178, 117, 241, 260,  86, 186, 272, 180,  45, 175, 175, 123,\n",
       "       132, 162, 306,  16,  16,  14,  14,  14, 293,  14, 297, 231,  40,\n",
       "       253, 325, 258, 249, 249, 249, 164, 307, 107, 111, 336, 186, 216,\n",
       "       238, 157, 157, 153, 109, 109, 109, 200, 299, 156, 156, 216,  64,\n",
       "       257, 257,  33,  48,  87, 110, 251, 251, 251,  52, 282, 282, 220,\n",
       "       220, 176, 244, 207, 207, 207, 188, 160, 206, 228, 219, 219, 219,\n",
       "       256, 226, 241, 326, 252, 252, 230, 218, 218,  28, 333, 177, 147,\n",
       "       179, 189, 224, 224, 162, 162, 195, 195, 195,  55, 104, 104, 239,\n",
       "       116, 116,  76, 229, 229, 229, 161, 161, 209, 209, 209, 209,   4,\n",
       "       128, 259, 145, 145, 229, 292, 202, 202, 251, 251,  90, 209,  24,\n",
       "       226, 267, 253, 185,  46, 268, 284, 112, 222, 203,   2, 245, 245,\n",
       "       232, 270,  23,  18,  18, 150, 275, 275, 252, 336, 336, 168,  33,\n",
       "        33,  61,  88, 216,  92, 251, 225, 244, 288,  76, 222, 188,  62,\n",
       "        27,  27,  27, 250, 294, 183, 162, 133, 119,  13,  58, 140, 140,\n",
       "       243, 241, 241,  41, 163,  35, 153, 299, 246, 313, 187, 187, 187,\n",
       "       308, 308, 308, 277, 134,  88,  88, 301, 301, 303, 303, 171, 214,\n",
       "       162, 178,  49, 102, 285, 285, 262, 222, 234,   6,  64, 213, 213,\n",
       "       214, 219, 219, 221, 153,  59, 232, 232, 165, 165,  15,  15, 314,\n",
       "       259, 169, 225, 292,  93,  93, 182,  30, 222, 106, 179, 244, 312,\n",
       "       287, 236,  63, 201, 240, 163, 163,  81, 335, 237, 237, 310, 262,\n",
       "       320,   1, 319, 214, 189, 189, 305, 262, 262,   8, 305, 305, 299,\n",
       "       232, 229, 135, 137, 137, 142, 163, 209, 173, 330, 302, 220, 225,\n",
       "       331, 160, 154, 154, 222, 222, 222,  51,  51, 268, 154,  51,  60,\n",
       "       291, 242,  70, 202, 120, 270, 319,  80, 208, 216, 216, 216, 101,\n",
       "       175, 138, 321, 262,  84, 141, 154, 173, 290, 290, 168, 249, 267,\n",
       "        79, 179, 142, 186, 186, 184, 111, 111, 186, 186, 248,  96, 130,\n",
       "       130, 130, 232, 235,  21,  95,  53,  37,  37,  47,  47,  82, 168,\n",
       "       148,  25,  20, 170,  54,  58,  99,  91,  91,  36, 169,  77, 222,\n",
       "       315,  67,  67,  67, 297, 203,  59, 193, 182, 311,  12, 341, 265,\n",
       "       280, 142,  85,  85,  74,  80, 116,  76, 181, 152,  73, 286, 283,\n",
       "       283, 307,  66,  66, 144, 208, 225, 223, 300, 198,  84, 198,  32,\n",
       "       100, 251, 251, 251, 103, 157, 190,  54,  61,  61, 186, 155, 155,\n",
       "       191, 267, 221, 177, 242, 271, 271,   4, 118,  65,  65, 222, 204,\n",
       "       204, 337, 219, 177, 177, 146, 316,  79,  26, 218,  93, 124,   9,\n",
       "       199, 115, 239, 338, 338,  83,  83,  83,  60, 209, 281,  75, 150,\n",
       "        88, 143, 309, 228,  60,  98,   7, 271, 175, 175, 175], dtype=int32)"
      ]
     },
     "execution_count": 139,
     "metadata": {},
     "output_type": "execute_result"
    }
   ],
   "source": [
    "clusters"
   ]
  },
  {
   "cell_type": "code",
   "execution_count": 140,
   "metadata": {},
   "outputs": [],
   "source": [
    "unique, counts = np.unique(clusters, return_counts=True)"
   ]
  },
  {
   "cell_type": "code",
   "execution_count": 141,
   "metadata": {},
   "outputs": [],
   "source": [
    "first_clusters = dict(zip(unique, counts))"
   ]
  },
  {
   "cell_type": "code",
   "execution_count": 142,
   "metadata": {},
   "outputs": [
    {
     "data": {
      "text/plain": [
       "341"
      ]
     },
     "execution_count": 142,
     "metadata": {},
     "output_type": "execute_result"
    }
   ],
   "source": [
    "len(dict(zip(unique, counts)))"
   ]
  },
  {
   "cell_type": "code",
   "execution_count": 143,
   "metadata": {},
   "outputs": [
    {
     "data": {
      "text/plain": [
       "341"
      ]
     },
     "execution_count": 143,
     "metadata": {},
     "output_type": "execute_result"
    }
   ],
   "source": [
    "len(fibrst_clusters)"
   ]
  },
  {
   "cell_type": "code",
   "execution_count": 158,
   "metadata": {},
   "outputs": [
    {
     "data": {
      "text/plain": [
       "{1: 2,\n",
       " 2: 1,\n",
       " 3: 1,\n",
       " 4: 2,\n",
       " 5: 1,\n",
       " 6: 1,\n",
       " 7: 1,\n",
       " 8: 1,\n",
       " 9: 2,\n",
       " 10: 1,\n",
       " 11: 2,\n",
       " 12: 1,\n",
       " 13: 1,\n",
       " 14: 4,\n",
       " 15: 2,\n",
       " 16: 2,\n",
       " 17: 1,\n",
       " 18: 2,\n",
       " 19: 1,\n",
       " 20: 1,\n",
       " 21: 2,\n",
       " 22: 1,\n",
       " 23: 1,\n",
       " 24: 1,\n",
       " 25: 1,\n",
       " 26: 2,\n",
       " 27: 3,\n",
       " 28: 1,\n",
       " 29: 1,\n",
       " 30: 1,\n",
       " 31: 2,\n",
       " 32: 3,\n",
       " 33: 4,\n",
       " 34: 1,\n",
       " 35: 1,\n",
       " 36: 1,\n",
       " 37: 3,\n",
       " 38: 1,\n",
       " 39: 1,\n",
       " 40: 1,\n",
       " 41: 1,\n",
       " 42: 1,\n",
       " 43: 2,\n",
       " 44: 2,\n",
       " 45: 1,\n",
       " 46: 3,\n",
       " 47: 3,\n",
       " 48: 2,\n",
       " 49: 5,\n",
       " 50: 4,\n",
       " 51: 4,\n",
       " 52: 2,\n",
       " 53: 1,\n",
       " 54: 2,\n",
       " 55: 2,\n",
       " 56: 1,\n",
       " 57: 3,\n",
       " 58: 2,\n",
       " 59: 3,\n",
       " 60: 3,\n",
       " 61: 4,\n",
       " 62: 3,\n",
       " 63: 1,\n",
       " 64: 2,\n",
       " 65: 2,\n",
       " 66: 2,\n",
       " 67: 3,\n",
       " 68: 2,\n",
       " 69: 1,\n",
       " 70: 1,\n",
       " 71: 1,\n",
       " 72: 1,\n",
       " 73: 1,\n",
       " 74: 2,\n",
       " 75: 1,\n",
       " 76: 3,\n",
       " 77: 2,\n",
       " 78: 1,\n",
       " 79: 2,\n",
       " 80: 3,\n",
       " 81: 2,\n",
       " 82: 1,\n",
       " 83: 3,\n",
       " 84: 2,\n",
       " 85: 2,\n",
       " 86: 1,\n",
       " 87: 4,\n",
       " 88: 4,\n",
       " 89: 3,\n",
       " 90: 1,\n",
       " 91: 4,\n",
       " 92: 2,\n",
       " 93: 3,\n",
       " 94: 1,\n",
       " 95: 1,\n",
       " 96: 1,\n",
       " 97: 3,\n",
       " 98: 1,\n",
       " 99: 2,\n",
       " 100: 2,\n",
       " 101: 1,\n",
       " 102: 1,\n",
       " 103: 1,\n",
       " 104: 2,\n",
       " 105: 1,\n",
       " 106: 1,\n",
       " 107: 1,\n",
       " 108: 1,\n",
       " 109: 3,\n",
       " 110: 1,\n",
       " 111: 4,\n",
       " 112: 1,\n",
       " 113: 1,\n",
       " 114: 1,\n",
       " 115: 1,\n",
       " 116: 3,\n",
       " 117: 1,\n",
       " 118: 1,\n",
       " 119: 1,\n",
       " 120: 1,\n",
       " 121: 2,\n",
       " 122: 3,\n",
       " 123: 1,\n",
       " 124: 1,\n",
       " 125: 2,\n",
       " 126: 1,\n",
       " 127: 1,\n",
       " 128: 1,\n",
       " 129: 2,\n",
       " 130: 3,\n",
       " 131: 2,\n",
       " 132: 2,\n",
       " 133: 1,\n",
       " 134: 2,\n",
       " 135: 1,\n",
       " 136: 1,\n",
       " 137: 2,\n",
       " 138: 1,\n",
       " 139: 2,\n",
       " 140: 2,\n",
       " 141: 1,\n",
       " 142: 3,\n",
       " 143: 3,\n",
       " 144: 3,\n",
       " 145: 5,\n",
       " 146: 1,\n",
       " 147: 2,\n",
       " 148: 3,\n",
       " 149: 1,\n",
       " 150: 5,\n",
       " 151: 3,\n",
       " 152: 2,\n",
       " 153: 3,\n",
       " 154: 5,\n",
       " 155: 2,\n",
       " 156: 2,\n",
       " 157: 3,\n",
       " 158: 1,\n",
       " 159: 1,\n",
       " 160: 5,\n",
       " 161: 3,\n",
       " 162: 6,\n",
       " 163: 6,\n",
       " 164: 1,\n",
       " 165: 3,\n",
       " 166: 1,\n",
       " 167: 1,\n",
       " 168: 5,\n",
       " 169: 5,\n",
       " 170: 3,\n",
       " 171: 5,\n",
       " 172: 3,\n",
       " 173: 3,\n",
       " 174: 3,\n",
       " 175: 7,\n",
       " 176: 2,\n",
       " 177: 5,\n",
       " 178: 2,\n",
       " 179: 3,\n",
       " 180: 1,\n",
       " 181: 1,\n",
       " 182: 2,\n",
       " 183: 2,\n",
       " 184: 6,\n",
       " 185: 1,\n",
       " 186: 9,\n",
       " 187: 3,\n",
       " 188: 2,\n",
       " 189: 3,\n",
       " 190: 2,\n",
       " 191: 1,\n",
       " 192: 2,\n",
       " 193: 3,\n",
       " 194: 2,\n",
       " 195: 3,\n",
       " 196: 5,\n",
       " 197: 2,\n",
       " 198: 4,\n",
       " 199: 2,\n",
       " 200: 3,\n",
       " 201: 3,\n",
       " 202: 3,\n",
       " 203: 2,\n",
       " 204: 2,\n",
       " 205: 1,\n",
       " 206: 1,\n",
       " 207: 4,\n",
       " 208: 4,\n",
       " 209: 8,\n",
       " 210: 1,\n",
       " 211: 3,\n",
       " 212: 1,\n",
       " 213: 2,\n",
       " 214: 3,\n",
       " 215: 2,\n",
       " 216: 6,\n",
       " 217: 5,\n",
       " 218: 3,\n",
       " 219: 6,\n",
       " 220: 3,\n",
       " 221: 2,\n",
       " 222: 9,\n",
       " 223: 1,\n",
       " 224: 2,\n",
       " 225: 4,\n",
       " 226: 2,\n",
       " 227: 4,\n",
       " 228: 3,\n",
       " 229: 5,\n",
       " 230: 1,\n",
       " 231: 3,\n",
       " 232: 5,\n",
       " 233: 2,\n",
       " 234: 1,\n",
       " 235: 1,\n",
       " 236: 1,\n",
       " 237: 4,\n",
       " 238: 4,\n",
       " 239: 4,\n",
       " 240: 4,\n",
       " 241: 4,\n",
       " 242: 4,\n",
       " 243: 3,\n",
       " 244: 3,\n",
       " 245: 2,\n",
       " 246: 2,\n",
       " 247: 5,\n",
       " 248: 2,\n",
       " 249: 6,\n",
       " 250: 2,\n",
       " 251: 10,\n",
       " 252: 5,\n",
       " 253: 5,\n",
       " 254: 1,\n",
       " 255: 1,\n",
       " 256: 1,\n",
       " 257: 2,\n",
       " 258: 1,\n",
       " 259: 2,\n",
       " 260: 2,\n",
       " 261: 2,\n",
       " 262: 7,\n",
       " 263: 3,\n",
       " 264: 2,\n",
       " 265: 1,\n",
       " 266: 1,\n",
       " 267: 4,\n",
       " 268: 3,\n",
       " 269: 4,\n",
       " 270: 4,\n",
       " 271: 4,\n",
       " 272: 1,\n",
       " 273: 2,\n",
       " 274: 3,\n",
       " 275: 2,\n",
       " 276: 1,\n",
       " 277: 1,\n",
       " 278: 1,\n",
       " 279: 1,\n",
       " 280: 1,\n",
       " 281: 1,\n",
       " 282: 2,\n",
       " 283: 2,\n",
       " 284: 1,\n",
       " 285: 2,\n",
       " 286: 3,\n",
       " 287: 1,\n",
       " 288: 2,\n",
       " 289: 1,\n",
       " 290: 2,\n",
       " 291: 2,\n",
       " 292: 2,\n",
       " 293: 1,\n",
       " 294: 2,\n",
       " 295: 3,\n",
       " 296: 2,\n",
       " 297: 3,\n",
       " 298: 1,\n",
       " 299: 3,\n",
       " 300: 1,\n",
       " 301: 2,\n",
       " 302: 2,\n",
       " 303: 2,\n",
       " 304: 1,\n",
       " 305: 3,\n",
       " 306: 2,\n",
       " 307: 4,\n",
       " 308: 3,\n",
       " 309: 4,\n",
       " 310: 1,\n",
       " 311: 1,\n",
       " 312: 1,\n",
       " 313: 1,\n",
       " 314: 1,\n",
       " 315: 1,\n",
       " 316: 1,\n",
       " 317: 2,\n",
       " 318: 1,\n",
       " 319: 2,\n",
       " 320: 1,\n",
       " 321: 1,\n",
       " 322: 1,\n",
       " 323: 1,\n",
       " 324: 1,\n",
       " 325: 1,\n",
       " 326: 1,\n",
       " 327: 1,\n",
       " 328: 1,\n",
       " 329: 1,\n",
       " 330: 1,\n",
       " 331: 1,\n",
       " 332: 1,\n",
       " 333: 1,\n",
       " 334: 1,\n",
       " 335: 1,\n",
       " 336: 3,\n",
       " 337: 1,\n",
       " 338: 2,\n",
       " 339: 2,\n",
       " 340: 1,\n",
       " 341: 1}"
      ]
     },
     "execution_count": 158,
     "metadata": {},
     "output_type": "execute_result"
    }
   ],
   "source": [
    "first_clusters"
   ]
  },
  {
   "cell_type": "code",
   "execution_count": 159,
   "metadata": {},
   "outputs": [
    {
     "data": {
      "text/plain": [
       "54"
      ]
     },
     "execution_count": 159,
     "metadata": {},
     "output_type": "execute_result"
    }
   ],
   "source": [
    "sum(1 for x in first_clusters.values() if x > 3)"
   ]
  },
  {
   "cell_type": "code",
   "execution_count": 160,
   "metadata": {},
   "outputs": [
    {
     "name": "stdout",
     "output_type": "stream",
     "text": [
      "0.15835777126099707\n"
     ]
    }
   ],
   "source": [
    "print(54.0/341)"
   ]
  },
  {
   "cell_type": "code",
   "execution_count": null,
   "metadata": {},
   "outputs": [],
   "source": []
  }
 ],
 "metadata": {
  "kernelspec": {
   "display_name": "Python 3",
   "language": "python",
   "name": "python3"
  },
  "language_info": {
   "codemirror_mode": {
    "name": "ipython",
    "version": 3
   },
   "file_extension": ".py",
   "mimetype": "text/x-python",
   "name": "python",
   "nbconvert_exporter": "python",
   "pygments_lexer": "ipython3",
   "version": "3.7.3"
  }
 },
 "nbformat": 4,
 "nbformat_minor": 2
}
