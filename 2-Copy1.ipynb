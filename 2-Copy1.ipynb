{
 "cells": [
  {
   "cell_type": "code",
   "execution_count": 2,
   "metadata": {},
   "outputs": [],
   "source": [
    "import csv"
   ]
  },
  {
   "cell_type": "code",
   "execution_count": 3,
   "metadata": {},
   "outputs": [],
   "source": [
    "import pandas as pd\n",
    "import numpy as np"
   ]
  },
  {
   "cell_type": "code",
   "execution_count": 4,
   "metadata": {},
   "outputs": [],
   "source": [
    "import matplotlib.pyplot as plt\n",
    "from pandas import *\n",
    "import seaborn as sns\n",
    "from matplotlib import rcParams\n",
    "import datetime as dt"
   ]
  },
  {
   "cell_type": "code",
   "execution_count": 5,
   "metadata": {},
   "outputs": [],
   "source": [
    "import os\n",
    "import glob"
   ]
  },
  {
   "cell_type": "code",
   "execution_count": 6,
   "metadata": {},
   "outputs": [],
   "source": [
    "df = pd.read_csv('C:/Users/a.guidi/Desktop/side_project/yellowtaxi/2016_Yellow_Taxi_Trip_Data.csv')"
   ]
  },
  {
   "cell_type": "code",
   "execution_count": 7,
   "metadata": {},
   "outputs": [
    {
     "data": {
      "text/html": [
       "<div>\n",
       "<style scoped>\n",
       "    .dataframe tbody tr th:only-of-type {\n",
       "        vertical-align: middle;\n",
       "    }\n",
       "\n",
       "    .dataframe tbody tr th {\n",
       "        vertical-align: top;\n",
       "    }\n",
       "\n",
       "    .dataframe thead th {\n",
       "        text-align: right;\n",
       "    }\n",
       "</style>\n",
       "<table border=\"1\" class=\"dataframe\">\n",
       "  <thead>\n",
       "    <tr style=\"text-align: right;\">\n",
       "      <th></th>\n",
       "      <th>VendorID</th>\n",
       "      <th>tpep_pickup_datetime</th>\n",
       "      <th>tpep_dropoff_datetime</th>\n",
       "      <th>passenger_count</th>\n",
       "      <th>trip_distance</th>\n",
       "      <th>pickup_longitude</th>\n",
       "      <th>pickup_latitude</th>\n",
       "      <th>RatecodeID</th>\n",
       "      <th>store_and_fwd_flag</th>\n",
       "      <th>dropoff_longitude</th>\n",
       "      <th>...</th>\n",
       "      <th>payment_type</th>\n",
       "      <th>fare_amount</th>\n",
       "      <th>extra</th>\n",
       "      <th>mta_tax</th>\n",
       "      <th>tip_amount</th>\n",
       "      <th>tolls_amount</th>\n",
       "      <th>improvement_surcharge</th>\n",
       "      <th>total_amount</th>\n",
       "      <th>PULocationID</th>\n",
       "      <th>DOLocationID</th>\n",
       "    </tr>\n",
       "  </thead>\n",
       "  <tbody>\n",
       "    <tr>\n",
       "      <th>0</th>\n",
       "      <td>1</td>\n",
       "      <td>06/06/2016 12:00:00 AM</td>\n",
       "      <td>06/06/2016 12:16:57 AM</td>\n",
       "      <td>1</td>\n",
       "      <td>6.60</td>\n",
       "      <td>-73.946548</td>\n",
       "      <td>40.785099</td>\n",
       "      <td>1</td>\n",
       "      <td>N</td>\n",
       "      <td>-73.923866</td>\n",
       "      <td>...</td>\n",
       "      <td>3</td>\n",
       "      <td>20.0</td>\n",
       "      <td>0.5</td>\n",
       "      <td>0.5</td>\n",
       "      <td>0.00</td>\n",
       "      <td>0.00</td>\n",
       "      <td>0.3</td>\n",
       "      <td>21.30</td>\n",
       "      <td>NaN</td>\n",
       "      <td>NaN</td>\n",
       "    </tr>\n",
       "    <tr>\n",
       "      <th>1</th>\n",
       "      <td>2</td>\n",
       "      <td>06/06/2016 12:00:00 AM</td>\n",
       "      <td>06/06/2016 12:00:00 AM</td>\n",
       "      <td>1</td>\n",
       "      <td>4.27</td>\n",
       "      <td>-73.952385</td>\n",
       "      <td>40.741501</td>\n",
       "      <td>2</td>\n",
       "      <td>N</td>\n",
       "      <td>-74.004097</td>\n",
       "      <td>...</td>\n",
       "      <td>1</td>\n",
       "      <td>52.0</td>\n",
       "      <td>0.0</td>\n",
       "      <td>0.5</td>\n",
       "      <td>0.00</td>\n",
       "      <td>5.54</td>\n",
       "      <td>0.3</td>\n",
       "      <td>58.34</td>\n",
       "      <td>NaN</td>\n",
       "      <td>NaN</td>\n",
       "    </tr>\n",
       "    <tr>\n",
       "      <th>2</th>\n",
       "      <td>2</td>\n",
       "      <td>06/06/2016 12:00:00 AM</td>\n",
       "      <td>06/06/2016 06:07:49 PM</td>\n",
       "      <td>1</td>\n",
       "      <td>2.02</td>\n",
       "      <td>-73.978745</td>\n",
       "      <td>40.750641</td>\n",
       "      <td>1</td>\n",
       "      <td>N</td>\n",
       "      <td>-73.997108</td>\n",
       "      <td>...</td>\n",
       "      <td>1</td>\n",
       "      <td>10.0</td>\n",
       "      <td>1.3</td>\n",
       "      <td>0.5</td>\n",
       "      <td>1.25</td>\n",
       "      <td>0.00</td>\n",
       "      <td>0.3</td>\n",
       "      <td>13.35</td>\n",
       "      <td>NaN</td>\n",
       "      <td>NaN</td>\n",
       "    </tr>\n",
       "    <tr>\n",
       "      <th>3</th>\n",
       "      <td>2</td>\n",
       "      <td>06/06/2016 12:00:01 AM</td>\n",
       "      <td>06/06/2016 12:04:05 AM</td>\n",
       "      <td>2</td>\n",
       "      <td>1.37</td>\n",
       "      <td>-73.980690</td>\n",
       "      <td>40.742210</td>\n",
       "      <td>1</td>\n",
       "      <td>N</td>\n",
       "      <td>-73.967842</td>\n",
       "      <td>...</td>\n",
       "      <td>1</td>\n",
       "      <td>6.0</td>\n",
       "      <td>0.5</td>\n",
       "      <td>0.5</td>\n",
       "      <td>1.82</td>\n",
       "      <td>0.00</td>\n",
       "      <td>0.3</td>\n",
       "      <td>9.12</td>\n",
       "      <td>NaN</td>\n",
       "      <td>NaN</td>\n",
       "    </tr>\n",
       "    <tr>\n",
       "      <th>4</th>\n",
       "      <td>1</td>\n",
       "      <td>06/06/2016 12:00:02 AM</td>\n",
       "      <td>06/06/2016 12:03:36 AM</td>\n",
       "      <td>1</td>\n",
       "      <td>0.90</td>\n",
       "      <td>-73.986794</td>\n",
       "      <td>40.756310</td>\n",
       "      <td>1</td>\n",
       "      <td>N</td>\n",
       "      <td>-73.976067</td>\n",
       "      <td>...</td>\n",
       "      <td>2</td>\n",
       "      <td>5.0</td>\n",
       "      <td>0.5</td>\n",
       "      <td>0.5</td>\n",
       "      <td>0.00</td>\n",
       "      <td>0.00</td>\n",
       "      <td>0.3</td>\n",
       "      <td>6.30</td>\n",
       "      <td>NaN</td>\n",
       "      <td>NaN</td>\n",
       "    </tr>\n",
       "  </tbody>\n",
       "</table>\n",
       "<p>5 rows × 21 columns</p>\n",
       "</div>"
      ],
      "text/plain": [
       "   VendorID    tpep_pickup_datetime   tpep_dropoff_datetime  passenger_count  \\\n",
       "0         1  06/06/2016 12:00:00 AM  06/06/2016 12:16:57 AM                1   \n",
       "1         2  06/06/2016 12:00:00 AM  06/06/2016 12:00:00 AM                1   \n",
       "2         2  06/06/2016 12:00:00 AM  06/06/2016 06:07:49 PM                1   \n",
       "3         2  06/06/2016 12:00:01 AM  06/06/2016 12:04:05 AM                2   \n",
       "4         1  06/06/2016 12:00:02 AM  06/06/2016 12:03:36 AM                1   \n",
       "\n",
       "   trip_distance  pickup_longitude  pickup_latitude  RatecodeID  \\\n",
       "0           6.60        -73.946548        40.785099           1   \n",
       "1           4.27        -73.952385        40.741501           2   \n",
       "2           2.02        -73.978745        40.750641           1   \n",
       "3           1.37        -73.980690        40.742210           1   \n",
       "4           0.90        -73.986794        40.756310           1   \n",
       "\n",
       "  store_and_fwd_flag  dropoff_longitude  ...  payment_type  fare_amount  \\\n",
       "0                  N         -73.923866  ...             3         20.0   \n",
       "1                  N         -74.004097  ...             1         52.0   \n",
       "2                  N         -73.997108  ...             1         10.0   \n",
       "3                  N         -73.967842  ...             1          6.0   \n",
       "4                  N         -73.976067  ...             2          5.0   \n",
       "\n",
       "   extra  mta_tax  tip_amount  tolls_amount  improvement_surcharge  \\\n",
       "0    0.5      0.5        0.00          0.00                    0.3   \n",
       "1    0.0      0.5        0.00          5.54                    0.3   \n",
       "2    1.3      0.5        1.25          0.00                    0.3   \n",
       "3    0.5      0.5        1.82          0.00                    0.3   \n",
       "4    0.5      0.5        0.00          0.00                    0.3   \n",
       "\n",
       "   total_amount  PULocationID  DOLocationID  \n",
       "0         21.30           NaN           NaN  \n",
       "1         58.34           NaN           NaN  \n",
       "2         13.35           NaN           NaN  \n",
       "3          9.12           NaN           NaN  \n",
       "4          6.30           NaN           NaN  \n",
       "\n",
       "[5 rows x 21 columns]"
      ]
     },
     "execution_count": 7,
     "metadata": {},
     "output_type": "execute_result"
    }
   ],
   "source": [
    "df.head()"
   ]
  },
  {
   "cell_type": "code",
   "execution_count": 8,
   "metadata": {},
   "outputs": [
    {
     "data": {
      "text/plain": [
       "(2626843, 21)"
      ]
     },
     "execution_count": 8,
     "metadata": {},
     "output_type": "execute_result"
    }
   ],
   "source": [
    "df.shape"
   ]
  },
  {
   "cell_type": "code",
   "execution_count": 9,
   "metadata": {},
   "outputs": [
    {
     "name": "stdout",
     "output_type": "stream",
     "text": [
      "['VendorID', 'tpep_pickup_datetime', 'tpep_dropoff_datetime', 'passenger_count', 'trip_distance', 'pickup_longitude', 'pickup_latitude', 'RatecodeID', 'store_and_fwd_flag', 'dropoff_longitude', 'dropoff_latitude', 'payment_type', 'fare_amount', 'extra', 'mta_tax', 'tip_amount', 'tolls_amount', 'improvement_surcharge', 'total_amount', 'PULocationID', 'DOLocationID']\n"
     ]
    }
   ],
   "source": [
    "print(df.columns.tolist())"
   ]
  },
  {
   "cell_type": "code",
   "execution_count": 11,
   "metadata": {},
   "outputs": [],
   "source": [
    "df = df.drop(df.index[(df['pickup_longitude'] == df['dropoff_longitude']) & (df['pickup_latitude'] == df['dropoff_latitude'])])"
   ]
  },
  {
   "cell_type": "code",
   "execution_count": 12,
   "metadata": {},
   "outputs": [],
   "source": [
    "df['tpep_pickup_datetime'] = to_datetime(df['tpep_pickup_datetime'])"
   ]
  },
  {
   "cell_type": "code",
   "execution_count": 13,
   "metadata": {},
   "outputs": [],
   "source": [
    "df['tpep_dropoff_datetime'] = to_datetime(df['tpep_dropoff_datetime'])"
   ]
  },
  {
   "cell_type": "code",
   "execution_count": 14,
   "metadata": {},
   "outputs": [
    {
     "data": {
      "text/html": [
       "<div>\n",
       "<style scoped>\n",
       "    .dataframe tbody tr th:only-of-type {\n",
       "        vertical-align: middle;\n",
       "    }\n",
       "\n",
       "    .dataframe tbody tr th {\n",
       "        vertical-align: top;\n",
       "    }\n",
       "\n",
       "    .dataframe thead th {\n",
       "        text-align: right;\n",
       "    }\n",
       "</style>\n",
       "<table border=\"1\" class=\"dataframe\">\n",
       "  <thead>\n",
       "    <tr style=\"text-align: right;\">\n",
       "      <th></th>\n",
       "      <th>VendorID</th>\n",
       "      <th>tpep_pickup_datetime</th>\n",
       "      <th>tpep_dropoff_datetime</th>\n",
       "      <th>passenger_count</th>\n",
       "      <th>trip_distance</th>\n",
       "      <th>pickup_longitude</th>\n",
       "      <th>pickup_latitude</th>\n",
       "      <th>RatecodeID</th>\n",
       "      <th>store_and_fwd_flag</th>\n",
       "      <th>dropoff_longitude</th>\n",
       "      <th>...</th>\n",
       "      <th>payment_type</th>\n",
       "      <th>fare_amount</th>\n",
       "      <th>extra</th>\n",
       "      <th>mta_tax</th>\n",
       "      <th>tip_amount</th>\n",
       "      <th>tolls_amount</th>\n",
       "      <th>improvement_surcharge</th>\n",
       "      <th>total_amount</th>\n",
       "      <th>PULocationID</th>\n",
       "      <th>DOLocationID</th>\n",
       "    </tr>\n",
       "  </thead>\n",
       "  <tbody>\n",
       "    <tr>\n",
       "      <th>0</th>\n",
       "      <td>1</td>\n",
       "      <td>2016-06-06 00:00:00</td>\n",
       "      <td>2016-06-06 00:16:57</td>\n",
       "      <td>1</td>\n",
       "      <td>6.60</td>\n",
       "      <td>-73.946548</td>\n",
       "      <td>40.785099</td>\n",
       "      <td>1</td>\n",
       "      <td>N</td>\n",
       "      <td>-73.923866</td>\n",
       "      <td>...</td>\n",
       "      <td>3</td>\n",
       "      <td>20.0</td>\n",
       "      <td>0.5</td>\n",
       "      <td>0.5</td>\n",
       "      <td>0.00</td>\n",
       "      <td>0.00</td>\n",
       "      <td>0.3</td>\n",
       "      <td>21.30</td>\n",
       "      <td>NaN</td>\n",
       "      <td>NaN</td>\n",
       "    </tr>\n",
       "    <tr>\n",
       "      <th>1</th>\n",
       "      <td>2</td>\n",
       "      <td>2016-06-06 00:00:00</td>\n",
       "      <td>2016-06-06 00:00:00</td>\n",
       "      <td>1</td>\n",
       "      <td>4.27</td>\n",
       "      <td>-73.952385</td>\n",
       "      <td>40.741501</td>\n",
       "      <td>2</td>\n",
       "      <td>N</td>\n",
       "      <td>-74.004097</td>\n",
       "      <td>...</td>\n",
       "      <td>1</td>\n",
       "      <td>52.0</td>\n",
       "      <td>0.0</td>\n",
       "      <td>0.5</td>\n",
       "      <td>0.00</td>\n",
       "      <td>5.54</td>\n",
       "      <td>0.3</td>\n",
       "      <td>58.34</td>\n",
       "      <td>NaN</td>\n",
       "      <td>NaN</td>\n",
       "    </tr>\n",
       "    <tr>\n",
       "      <th>2</th>\n",
       "      <td>2</td>\n",
       "      <td>2016-06-06 00:00:00</td>\n",
       "      <td>2016-06-06 18:07:49</td>\n",
       "      <td>1</td>\n",
       "      <td>2.02</td>\n",
       "      <td>-73.978745</td>\n",
       "      <td>40.750641</td>\n",
       "      <td>1</td>\n",
       "      <td>N</td>\n",
       "      <td>-73.997108</td>\n",
       "      <td>...</td>\n",
       "      <td>1</td>\n",
       "      <td>10.0</td>\n",
       "      <td>1.3</td>\n",
       "      <td>0.5</td>\n",
       "      <td>1.25</td>\n",
       "      <td>0.00</td>\n",
       "      <td>0.3</td>\n",
       "      <td>13.35</td>\n",
       "      <td>NaN</td>\n",
       "      <td>NaN</td>\n",
       "    </tr>\n",
       "    <tr>\n",
       "      <th>3</th>\n",
       "      <td>2</td>\n",
       "      <td>2016-06-06 00:00:01</td>\n",
       "      <td>2016-06-06 00:04:05</td>\n",
       "      <td>2</td>\n",
       "      <td>1.37</td>\n",
       "      <td>-73.980690</td>\n",
       "      <td>40.742210</td>\n",
       "      <td>1</td>\n",
       "      <td>N</td>\n",
       "      <td>-73.967842</td>\n",
       "      <td>...</td>\n",
       "      <td>1</td>\n",
       "      <td>6.0</td>\n",
       "      <td>0.5</td>\n",
       "      <td>0.5</td>\n",
       "      <td>1.82</td>\n",
       "      <td>0.00</td>\n",
       "      <td>0.3</td>\n",
       "      <td>9.12</td>\n",
       "      <td>NaN</td>\n",
       "      <td>NaN</td>\n",
       "    </tr>\n",
       "    <tr>\n",
       "      <th>4</th>\n",
       "      <td>1</td>\n",
       "      <td>2016-06-06 00:00:02</td>\n",
       "      <td>2016-06-06 00:03:36</td>\n",
       "      <td>1</td>\n",
       "      <td>0.90</td>\n",
       "      <td>-73.986794</td>\n",
       "      <td>40.756310</td>\n",
       "      <td>1</td>\n",
       "      <td>N</td>\n",
       "      <td>-73.976067</td>\n",
       "      <td>...</td>\n",
       "      <td>2</td>\n",
       "      <td>5.0</td>\n",
       "      <td>0.5</td>\n",
       "      <td>0.5</td>\n",
       "      <td>0.00</td>\n",
       "      <td>0.00</td>\n",
       "      <td>0.3</td>\n",
       "      <td>6.30</td>\n",
       "      <td>NaN</td>\n",
       "      <td>NaN</td>\n",
       "    </tr>\n",
       "  </tbody>\n",
       "</table>\n",
       "<p>5 rows × 21 columns</p>\n",
       "</div>"
      ],
      "text/plain": [
       "   VendorID tpep_pickup_datetime tpep_dropoff_datetime  passenger_count  \\\n",
       "0         1  2016-06-06 00:00:00   2016-06-06 00:16:57                1   \n",
       "1         2  2016-06-06 00:00:00   2016-06-06 00:00:00                1   \n",
       "2         2  2016-06-06 00:00:00   2016-06-06 18:07:49                1   \n",
       "3         2  2016-06-06 00:00:01   2016-06-06 00:04:05                2   \n",
       "4         1  2016-06-06 00:00:02   2016-06-06 00:03:36                1   \n",
       "\n",
       "   trip_distance  pickup_longitude  pickup_latitude  RatecodeID  \\\n",
       "0           6.60        -73.946548        40.785099           1   \n",
       "1           4.27        -73.952385        40.741501           2   \n",
       "2           2.02        -73.978745        40.750641           1   \n",
       "3           1.37        -73.980690        40.742210           1   \n",
       "4           0.90        -73.986794        40.756310           1   \n",
       "\n",
       "  store_and_fwd_flag  dropoff_longitude  ...  payment_type  fare_amount  \\\n",
       "0                  N         -73.923866  ...             3         20.0   \n",
       "1                  N         -74.004097  ...             1         52.0   \n",
       "2                  N         -73.997108  ...             1         10.0   \n",
       "3                  N         -73.967842  ...             1          6.0   \n",
       "4                  N         -73.976067  ...             2          5.0   \n",
       "\n",
       "   extra  mta_tax  tip_amount  tolls_amount  improvement_surcharge  \\\n",
       "0    0.5      0.5        0.00          0.00                    0.3   \n",
       "1    0.0      0.5        0.00          5.54                    0.3   \n",
       "2    1.3      0.5        1.25          0.00                    0.3   \n",
       "3    0.5      0.5        1.82          0.00                    0.3   \n",
       "4    0.5      0.5        0.00          0.00                    0.3   \n",
       "\n",
       "   total_amount  PULocationID  DOLocationID  \n",
       "0         21.30           NaN           NaN  \n",
       "1         58.34           NaN           NaN  \n",
       "2         13.35           NaN           NaN  \n",
       "3          9.12           NaN           NaN  \n",
       "4          6.30           NaN           NaN  \n",
       "\n",
       "[5 rows x 21 columns]"
      ]
     },
     "execution_count": 14,
     "metadata": {},
     "output_type": "execute_result"
    }
   ],
   "source": [
    "df.head()"
   ]
  },
  {
   "cell_type": "code",
   "execution_count": 15,
   "metadata": {},
   "outputs": [],
   "source": [
    "df = df.drop(df.index[(df.tpep_dropoff_datetime-df.tpep_pickup_datetime).astype('timedelta64[s]') < 95])"
   ]
  },
  {
   "cell_type": "code",
   "execution_count": 16,
   "metadata": {},
   "outputs": [
    {
     "data": {
      "text/plain": [
       "2559609"
      ]
     },
     "execution_count": 16,
     "metadata": {},
     "output_type": "execute_result"
    }
   ],
   "source": [
    "--2559609"
   ]
  },
  {
   "cell_type": "code",
   "execution_count": 17,
   "metadata": {},
   "outputs": [],
   "source": [
    "df = df.drop(df.index[df.passenger_count == 0])\n",
    "#ok"
   ]
  },
  {
   "cell_type": "code",
   "execution_count": 18,
   "metadata": {},
   "outputs": [
    {
     "data": {
      "text/plain": [
       "(2556812, 21)"
      ]
     },
     "execution_count": 18,
     "metadata": {},
     "output_type": "execute_result"
    }
   ],
   "source": [
    "df.shape"
   ]
  },
  {
   "cell_type": "code",
   "execution_count": 19,
   "metadata": {},
   "outputs": [
    {
     "data": {
      "text/plain": [
       "VendorID                 747125\n",
       "tpep_pickup_datetime     747125\n",
       "tpep_dropoff_datetime    747125\n",
       "passenger_count          747125\n",
       "trip_distance            747125\n",
       "pickup_longitude         747125\n",
       "pickup_latitude          747125\n",
       "RatecodeID               747125\n",
       "store_and_fwd_flag       747125\n",
       "dropoff_longitude        747125\n",
       "dropoff_latitude         747125\n",
       "payment_type             747125\n",
       "fare_amount              747125\n",
       "extra                    747125\n",
       "mta_tax                  747125\n",
       "tip_amount               747125\n",
       "tolls_amount             747125\n",
       "improvement_surcharge    747125\n",
       "total_amount             747125\n",
       "PULocationID                  0\n",
       "DOLocationID                  0\n",
       "dtype: int64"
      ]
     },
     "execution_count": 19,
     "metadata": {},
     "output_type": "execute_result"
    }
   ],
   "source": [
    "df[df['passenger_count'] > 1].count()"
   ]
  },
  {
   "cell_type": "code",
   "execution_count": 20,
   "metadata": {},
   "outputs": [
    {
     "data": {
      "text/plain": [
       "passenger_count\n",
       "1    1809687\n",
       "2     372610\n",
       "3     107552\n",
       "4      50783\n",
       "5     134102\n",
       "6      82075\n",
       "7          2\n",
       "8          1\n",
       "dtype: int64"
      ]
     },
     "execution_count": 20,
     "metadata": {},
     "output_type": "execute_result"
    }
   ],
   "source": [
    "df.groupby('passenger_count').size()"
   ]
  },
  {
   "cell_type": "code",
   "execution_count": 21,
   "metadata": {},
   "outputs": [],
   "source": [
    "df2 = df"
   ]
  },
  {
   "cell_type": "code",
   "execution_count": 22,
   "metadata": {},
   "outputs": [],
   "source": [
    "df2 = df2.loc[df2.index.repeat(df.passenger_count)]"
   ]
  },
  {
   "cell_type": "code",
   "execution_count": 23,
   "metadata": {},
   "outputs": [
    {
     "data": {
      "text/plain": [
       "(4243677, 21)"
      ]
     },
     "execution_count": 23,
     "metadata": {},
     "output_type": "execute_result"
    }
   ],
   "source": [
    "df2.shape"
   ]
  },
  {
   "cell_type": "code",
   "execution_count": 24,
   "metadata": {},
   "outputs": [
    {
     "data": {
      "text/html": [
       "<div>\n",
       "<style scoped>\n",
       "    .dataframe tbody tr th:only-of-type {\n",
       "        vertical-align: middle;\n",
       "    }\n",
       "\n",
       "    .dataframe tbody tr th {\n",
       "        vertical-align: top;\n",
       "    }\n",
       "\n",
       "    .dataframe thead th {\n",
       "        text-align: right;\n",
       "    }\n",
       "</style>\n",
       "<table border=\"1\" class=\"dataframe\">\n",
       "  <thead>\n",
       "    <tr style=\"text-align: right;\">\n",
       "      <th></th>\n",
       "      <th>VendorID</th>\n",
       "      <th>tpep_pickup_datetime</th>\n",
       "      <th>tpep_dropoff_datetime</th>\n",
       "      <th>passenger_count</th>\n",
       "      <th>trip_distance</th>\n",
       "      <th>pickup_longitude</th>\n",
       "      <th>pickup_latitude</th>\n",
       "      <th>RatecodeID</th>\n",
       "      <th>store_and_fwd_flag</th>\n",
       "      <th>dropoff_longitude</th>\n",
       "      <th>...</th>\n",
       "      <th>payment_type</th>\n",
       "      <th>fare_amount</th>\n",
       "      <th>extra</th>\n",
       "      <th>mta_tax</th>\n",
       "      <th>tip_amount</th>\n",
       "      <th>tolls_amount</th>\n",
       "      <th>improvement_surcharge</th>\n",
       "      <th>total_amount</th>\n",
       "      <th>PULocationID</th>\n",
       "      <th>DOLocationID</th>\n",
       "    </tr>\n",
       "  </thead>\n",
       "  <tbody>\n",
       "    <tr>\n",
       "      <th>0</th>\n",
       "      <td>1</td>\n",
       "      <td>2016-06-06 00:00:00</td>\n",
       "      <td>2016-06-06 00:16:57</td>\n",
       "      <td>1</td>\n",
       "      <td>6.60</td>\n",
       "      <td>-73.946548</td>\n",
       "      <td>40.785099</td>\n",
       "      <td>1</td>\n",
       "      <td>N</td>\n",
       "      <td>-73.923866</td>\n",
       "      <td>...</td>\n",
       "      <td>3</td>\n",
       "      <td>20.0</td>\n",
       "      <td>0.5</td>\n",
       "      <td>0.5</td>\n",
       "      <td>0.00</td>\n",
       "      <td>0.0</td>\n",
       "      <td>0.3</td>\n",
       "      <td>21.30</td>\n",
       "      <td>NaN</td>\n",
       "      <td>NaN</td>\n",
       "    </tr>\n",
       "    <tr>\n",
       "      <th>2</th>\n",
       "      <td>2</td>\n",
       "      <td>2016-06-06 00:00:00</td>\n",
       "      <td>2016-06-06 18:07:49</td>\n",
       "      <td>1</td>\n",
       "      <td>2.02</td>\n",
       "      <td>-73.978745</td>\n",
       "      <td>40.750641</td>\n",
       "      <td>1</td>\n",
       "      <td>N</td>\n",
       "      <td>-73.997108</td>\n",
       "      <td>...</td>\n",
       "      <td>1</td>\n",
       "      <td>10.0</td>\n",
       "      <td>1.3</td>\n",
       "      <td>0.5</td>\n",
       "      <td>1.25</td>\n",
       "      <td>0.0</td>\n",
       "      <td>0.3</td>\n",
       "      <td>13.35</td>\n",
       "      <td>NaN</td>\n",
       "      <td>NaN</td>\n",
       "    </tr>\n",
       "    <tr>\n",
       "      <th>3</th>\n",
       "      <td>2</td>\n",
       "      <td>2016-06-06 00:00:01</td>\n",
       "      <td>2016-06-06 00:04:05</td>\n",
       "      <td>2</td>\n",
       "      <td>1.37</td>\n",
       "      <td>-73.980690</td>\n",
       "      <td>40.742210</td>\n",
       "      <td>1</td>\n",
       "      <td>N</td>\n",
       "      <td>-73.967842</td>\n",
       "      <td>...</td>\n",
       "      <td>1</td>\n",
       "      <td>6.0</td>\n",
       "      <td>0.5</td>\n",
       "      <td>0.5</td>\n",
       "      <td>1.82</td>\n",
       "      <td>0.0</td>\n",
       "      <td>0.3</td>\n",
       "      <td>9.12</td>\n",
       "      <td>NaN</td>\n",
       "      <td>NaN</td>\n",
       "    </tr>\n",
       "    <tr>\n",
       "      <th>3</th>\n",
       "      <td>2</td>\n",
       "      <td>2016-06-06 00:00:01</td>\n",
       "      <td>2016-06-06 00:04:05</td>\n",
       "      <td>2</td>\n",
       "      <td>1.37</td>\n",
       "      <td>-73.980690</td>\n",
       "      <td>40.742210</td>\n",
       "      <td>1</td>\n",
       "      <td>N</td>\n",
       "      <td>-73.967842</td>\n",
       "      <td>...</td>\n",
       "      <td>1</td>\n",
       "      <td>6.0</td>\n",
       "      <td>0.5</td>\n",
       "      <td>0.5</td>\n",
       "      <td>1.82</td>\n",
       "      <td>0.0</td>\n",
       "      <td>0.3</td>\n",
       "      <td>9.12</td>\n",
       "      <td>NaN</td>\n",
       "      <td>NaN</td>\n",
       "    </tr>\n",
       "    <tr>\n",
       "      <th>4</th>\n",
       "      <td>1</td>\n",
       "      <td>2016-06-06 00:00:02</td>\n",
       "      <td>2016-06-06 00:03:36</td>\n",
       "      <td>1</td>\n",
       "      <td>0.90</td>\n",
       "      <td>-73.986794</td>\n",
       "      <td>40.756310</td>\n",
       "      <td>1</td>\n",
       "      <td>N</td>\n",
       "      <td>-73.976067</td>\n",
       "      <td>...</td>\n",
       "      <td>2</td>\n",
       "      <td>5.0</td>\n",
       "      <td>0.5</td>\n",
       "      <td>0.5</td>\n",
       "      <td>0.00</td>\n",
       "      <td>0.0</td>\n",
       "      <td>0.3</td>\n",
       "      <td>6.30</td>\n",
       "      <td>NaN</td>\n",
       "      <td>NaN</td>\n",
       "    </tr>\n",
       "  </tbody>\n",
       "</table>\n",
       "<p>5 rows × 21 columns</p>\n",
       "</div>"
      ],
      "text/plain": [
       "   VendorID tpep_pickup_datetime tpep_dropoff_datetime  passenger_count  \\\n",
       "0         1  2016-06-06 00:00:00   2016-06-06 00:16:57                1   \n",
       "2         2  2016-06-06 00:00:00   2016-06-06 18:07:49                1   \n",
       "3         2  2016-06-06 00:00:01   2016-06-06 00:04:05                2   \n",
       "3         2  2016-06-06 00:00:01   2016-06-06 00:04:05                2   \n",
       "4         1  2016-06-06 00:00:02   2016-06-06 00:03:36                1   \n",
       "\n",
       "   trip_distance  pickup_longitude  pickup_latitude  RatecodeID  \\\n",
       "0           6.60        -73.946548        40.785099           1   \n",
       "2           2.02        -73.978745        40.750641           1   \n",
       "3           1.37        -73.980690        40.742210           1   \n",
       "3           1.37        -73.980690        40.742210           1   \n",
       "4           0.90        -73.986794        40.756310           1   \n",
       "\n",
       "  store_and_fwd_flag  dropoff_longitude  ...  payment_type  fare_amount  \\\n",
       "0                  N         -73.923866  ...             3         20.0   \n",
       "2                  N         -73.997108  ...             1         10.0   \n",
       "3                  N         -73.967842  ...             1          6.0   \n",
       "3                  N         -73.967842  ...             1          6.0   \n",
       "4                  N         -73.976067  ...             2          5.0   \n",
       "\n",
       "   extra  mta_tax  tip_amount  tolls_amount  improvement_surcharge  \\\n",
       "0    0.5      0.5        0.00           0.0                    0.3   \n",
       "2    1.3      0.5        1.25           0.0                    0.3   \n",
       "3    0.5      0.5        1.82           0.0                    0.3   \n",
       "3    0.5      0.5        1.82           0.0                    0.3   \n",
       "4    0.5      0.5        0.00           0.0                    0.3   \n",
       "\n",
       "   total_amount  PULocationID  DOLocationID  \n",
       "0         21.30           NaN           NaN  \n",
       "2         13.35           NaN           NaN  \n",
       "3          9.12           NaN           NaN  \n",
       "3          9.12           NaN           NaN  \n",
       "4          6.30           NaN           NaN  \n",
       "\n",
       "[5 rows x 21 columns]"
      ]
     },
     "execution_count": 24,
     "metadata": {},
     "output_type": "execute_result"
    }
   ],
   "source": [
    "df2.head()"
   ]
  },
  {
   "cell_type": "code",
   "execution_count": 25,
   "metadata": {},
   "outputs": [],
   "source": [
    "df2 = df2.drop(df2.index[df2.passenger_count > 3])"
   ]
  },
  {
   "cell_type": "code",
   "execution_count": 27,
   "metadata": {},
   "outputs": [
    {
     "data": {
      "text/plain": [
       "(2877563, 21)"
      ]
     },
     "execution_count": 27,
     "metadata": {},
     "output_type": "execute_result"
    }
   ],
   "source": [
    "df2.shape"
   ]
  },
  {
   "cell_type": "code",
   "execution_count": null,
   "metadata": {},
   "outputs": [],
   "source": []
  }
 ],
 "metadata": {
  "kernelspec": {
   "display_name": "Python 3",
   "language": "python",
   "name": "python3"
  },
  "language_info": {
   "codemirror_mode": {
    "name": "ipython",
    "version": 3
   },
   "file_extension": ".py",
   "mimetype": "text/x-python",
   "name": "python",
   "nbconvert_exporter": "python",
   "pygments_lexer": "ipython3",
   "version": "3.7.3"
  }
 },
 "nbformat": 4,
 "nbformat_minor": 2
}
