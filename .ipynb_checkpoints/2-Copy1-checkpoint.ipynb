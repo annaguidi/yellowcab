{
 "cells": [
  {
   "cell_type": "code",
   "execution_count": 2,
   "metadata": {},
   "outputs": [],
   "source": [
    "import csv"
   ]
  },
  {
   "cell_type": "code",
   "execution_count": 3,
   "metadata": {},
   "outputs": [],
   "source": [
    "import pandas as pd\n",
    "import numpy as np"
   ]
  },
  {
   "cell_type": "code",
   "execution_count": 4,
   "metadata": {},
   "outputs": [],
   "source": [
    "import matplotlib.pyplot as plt\n",
    "from pandas import *\n",
    "import seaborn as sns\n",
    "from matplotlib import rcParams\n",
    "import datetime as dt"
   ]
  },
  {
   "cell_type": "code",
   "execution_count": 5,
   "metadata": {},
   "outputs": [],
   "source": [
    "import os\n",
    "import glob"
   ]
  },
  {
   "cell_type": "code",
   "execution_count": 6,
   "metadata": {},
   "outputs": [],
   "source": [
    "df = pd.read_csv('C:/Users/a.guidi/Desktop/side_project/yellowtaxi/2016_Yellow_Taxi_Trip_Data.csv')"
   ]
  },
  {
   "cell_type": "code",
   "execution_count": 7,
   "metadata": {},
   "outputs": [
    {
     "data": {
      "text/html": [
       "<div>\n",
       "<style scoped>\n",
       "    .dataframe tbody tr th:only-of-type {\n",
       "        vertical-align: middle;\n",
       "    }\n",
       "\n",
       "    .dataframe tbody tr th {\n",
       "        vertical-align: top;\n",
       "    }\n",
       "\n",
       "    .dataframe thead th {\n",
       "        text-align: right;\n",
       "    }\n",
       "</style>\n",
       "<table border=\"1\" class=\"dataframe\">\n",
       "  <thead>\n",
       "    <tr style=\"text-align: right;\">\n",
       "      <th></th>\n",
       "      <th>VendorID</th>\n",
       "      <th>tpep_pickup_datetime</th>\n",
       "      <th>tpep_dropoff_datetime</th>\n",
       "      <th>passenger_count</th>\n",
       "      <th>trip_distance</th>\n",
       "      <th>pickup_longitude</th>\n",
       "      <th>pickup_latitude</th>\n",
       "      <th>RatecodeID</th>\n",
       "      <th>store_and_fwd_flag</th>\n",
       "      <th>dropoff_longitude</th>\n",
       "      <th>...</th>\n",
       "      <th>payment_type</th>\n",
       "      <th>fare_amount</th>\n",
       "      <th>extra</th>\n",
       "      <th>mta_tax</th>\n",
       "      <th>tip_amount</th>\n",
       "      <th>tolls_amount</th>\n",
       "      <th>improvement_surcharge</th>\n",
       "      <th>total_amount</th>\n",
       "      <th>PULocationID</th>\n",
       "      <th>DOLocationID</th>\n",
       "    </tr>\n",
       "  </thead>\n",
       "  <tbody>\n",
       "    <tr>\n",
       "      <th>0</th>\n",
       "      <td>1</td>\n",
       "      <td>06/06/2016 12:00:00 AM</td>\n",
       "      <td>06/06/2016 12:16:57 AM</td>\n",
       "      <td>1</td>\n",
       "      <td>6.60</td>\n",
       "      <td>-73.946548</td>\n",
       "      <td>40.785099</td>\n",
       "      <td>1</td>\n",
       "      <td>N</td>\n",
       "      <td>-73.923866</td>\n",
       "      <td>...</td>\n",
       "      <td>3</td>\n",
       "      <td>20.0</td>\n",
       "      <td>0.5</td>\n",
       "      <td>0.5</td>\n",
       "      <td>0.00</td>\n",
       "      <td>0.00</td>\n",
       "      <td>0.3</td>\n",
       "      <td>21.30</td>\n",
       "      <td>NaN</td>\n",
       "      <td>NaN</td>\n",
       "    </tr>\n",
       "    <tr>\n",
       "      <th>1</th>\n",
       "      <td>2</td>\n",
       "      <td>06/06/2016 12:00:00 AM</td>\n",
       "      <td>06/06/2016 12:00:00 AM</td>\n",
       "      <td>1</td>\n",
       "      <td>4.27</td>\n",
       "      <td>-73.952385</td>\n",
       "      <td>40.741501</td>\n",
       "      <td>2</td>\n",
       "      <td>N</td>\n",
       "      <td>-74.004097</td>\n",
       "      <td>...</td>\n",
       "      <td>1</td>\n",
       "      <td>52.0</td>\n",
       "      <td>0.0</td>\n",
       "      <td>0.5</td>\n",
       "      <td>0.00</td>\n",
       "      <td>5.54</td>\n",
       "      <td>0.3</td>\n",
       "      <td>58.34</td>\n",
       "      <td>NaN</td>\n",
       "      <td>NaN</td>\n",
       "    </tr>\n",
       "    <tr>\n",
       "      <th>2</th>\n",
       "      <td>2</td>\n",
       "      <td>06/06/2016 12:00:00 AM</td>\n",
       "      <td>06/06/2016 06:07:49 PM</td>\n",
       "      <td>1</td>\n",
       "      <td>2.02</td>\n",
       "      <td>-73.978745</td>\n",
       "      <td>40.750641</td>\n",
       "      <td>1</td>\n",
       "      <td>N</td>\n",
       "      <td>-73.997108</td>\n",
       "      <td>...</td>\n",
       "      <td>1</td>\n",
       "      <td>10.0</td>\n",
       "      <td>1.3</td>\n",
       "      <td>0.5</td>\n",
       "      <td>1.25</td>\n",
       "      <td>0.00</td>\n",
       "      <td>0.3</td>\n",
       "      <td>13.35</td>\n",
       "      <td>NaN</td>\n",
       "      <td>NaN</td>\n",
       "    </tr>\n",
       "    <tr>\n",
       "      <th>3</th>\n",
       "      <td>2</td>\n",
       "      <td>06/06/2016 12:00:01 AM</td>\n",
       "      <td>06/06/2016 12:04:05 AM</td>\n",
       "      <td>2</td>\n",
       "      <td>1.37</td>\n",
       "      <td>-73.980690</td>\n",
       "      <td>40.742210</td>\n",
       "      <td>1</td>\n",
       "      <td>N</td>\n",
       "      <td>-73.967842</td>\n",
       "      <td>...</td>\n",
       "      <td>1</td>\n",
       "      <td>6.0</td>\n",
       "      <td>0.5</td>\n",
       "      <td>0.5</td>\n",
       "      <td>1.82</td>\n",
       "      <td>0.00</td>\n",
       "      <td>0.3</td>\n",
       "      <td>9.12</td>\n",
       "      <td>NaN</td>\n",
       "      <td>NaN</td>\n",
       "    </tr>\n",
       "    <tr>\n",
       "      <th>4</th>\n",
       "      <td>1</td>\n",
       "      <td>06/06/2016 12:00:02 AM</td>\n",
       "      <td>06/06/2016 12:03:36 AM</td>\n",
       "      <td>1</td>\n",
       "      <td>0.90</td>\n",
       "      <td>-73.986794</td>\n",
       "      <td>40.756310</td>\n",
       "      <td>1</td>\n",
       "      <td>N</td>\n",
       "      <td>-73.976067</td>\n",
       "      <td>...</td>\n",
       "      <td>2</td>\n",
       "      <td>5.0</td>\n",
       "      <td>0.5</td>\n",
       "      <td>0.5</td>\n",
       "      <td>0.00</td>\n",
       "      <td>0.00</td>\n",
       "      <td>0.3</td>\n",
       "      <td>6.30</td>\n",
       "      <td>NaN</td>\n",
       "      <td>NaN</td>\n",
       "    </tr>\n",
       "  </tbody>\n",
       "</table>\n",
       "<p>5 rows × 21 columns</p>\n",
       "</div>"
      ],
      "text/plain": [
       "   VendorID    tpep_pickup_datetime   tpep_dropoff_datetime  passenger_count  \\\n",
       "0         1  06/06/2016 12:00:00 AM  06/06/2016 12:16:57 AM                1   \n",
       "1         2  06/06/2016 12:00:00 AM  06/06/2016 12:00:00 AM                1   \n",
       "2         2  06/06/2016 12:00:00 AM  06/06/2016 06:07:49 PM                1   \n",
       "3         2  06/06/2016 12:00:01 AM  06/06/2016 12:04:05 AM                2   \n",
       "4         1  06/06/2016 12:00:02 AM  06/06/2016 12:03:36 AM                1   \n",
       "\n",
       "   trip_distance  pickup_longitude  pickup_latitude  RatecodeID  \\\n",
       "0           6.60        -73.946548        40.785099           1   \n",
       "1           4.27        -73.952385        40.741501           2   \n",
       "2           2.02        -73.978745        40.750641           1   \n",
       "3           1.37        -73.980690        40.742210           1   \n",
       "4           0.90        -73.986794        40.756310           1   \n",
       "\n",
       "  store_and_fwd_flag  dropoff_longitude  ...  payment_type  fare_amount  \\\n",
       "0                  N         -73.923866  ...             3         20.0   \n",
       "1                  N         -74.004097  ...             1         52.0   \n",
       "2                  N         -73.997108  ...             1         10.0   \n",
       "3                  N         -73.967842  ...             1          6.0   \n",
       "4                  N         -73.976067  ...             2          5.0   \n",
       "\n",
       "   extra  mta_tax  tip_amount  tolls_amount  improvement_surcharge  \\\n",
       "0    0.5      0.5        0.00          0.00                    0.3   \n",
       "1    0.0      0.5        0.00          5.54                    0.3   \n",
       "2    1.3      0.5        1.25          0.00                    0.3   \n",
       "3    0.5      0.5        1.82          0.00                    0.3   \n",
       "4    0.5      0.5        0.00          0.00                    0.3   \n",
       "\n",
       "   total_amount  PULocationID  DOLocationID  \n",
       "0         21.30           NaN           NaN  \n",
       "1         58.34           NaN           NaN  \n",
       "2         13.35           NaN           NaN  \n",
       "3          9.12           NaN           NaN  \n",
       "4          6.30           NaN           NaN  \n",
       "\n",
       "[5 rows x 21 columns]"
      ]
     },
     "execution_count": 7,
     "metadata": {},
     "output_type": "execute_result"
    }
   ],
   "source": [
    "df.head()"
   ]
  },
  {
   "cell_type": "code",
   "execution_count": 8,
   "metadata": {},
   "outputs": [
    {
     "data": {
      "text/plain": [
       "(2626843, 21)"
      ]
     },
     "execution_count": 8,
     "metadata": {},
     "output_type": "execute_result"
    }
   ],
   "source": [
    "df.shape"
   ]
  },
  {
   "cell_type": "code",
   "execution_count": 9,
   "metadata": {},
   "outputs": [
    {
     "name": "stdout",
     "output_type": "stream",
     "text": [
      "['VendorID', 'tpep_pickup_datetime', 'tpep_dropoff_datetime', 'passenger_count', 'trip_distance', 'pickup_longitude', 'pickup_latitude', 'RatecodeID', 'store_and_fwd_flag', 'dropoff_longitude', 'dropoff_latitude', 'payment_type', 'fare_amount', 'extra', 'mta_tax', 'tip_amount', 'tolls_amount', 'improvement_surcharge', 'total_amount', 'PULocationID', 'DOLocationID']\n"
     ]
    }
   ],
   "source": [
    "print(df.columns.tolist())"
   ]
  },
  {
   "cell_type": "markdown",
   "metadata": {},
   "source": [
    "# Data Cleaning"
   ]
  },
  {
   "cell_type": "code",
   "execution_count": 11,
   "metadata": {},
   "outputs": [],
   "source": [
    "df = df.drop(df.index[(df['pickup_longitude'] == df['dropoff_longitude']) & (df['pickup_latitude'] == df['dropoff_latitude'])])"
   ]
  },
  {
   "cell_type": "code",
   "execution_count": 12,
   "metadata": {},
   "outputs": [],
   "source": [
    "df['tpep_pickup_datetime'] = to_datetime(df['tpep_pickup_datetime'])"
   ]
  },
  {
   "cell_type": "code",
   "execution_count": 13,
   "metadata": {},
   "outputs": [],
   "source": [
    "df['tpep_dropoff_datetime'] = to_datetime(df['tpep_dropoff_datetime'])"
   ]
  },
  {
   "cell_type": "code",
   "execution_count": 14,
   "metadata": {},
   "outputs": [
    {
     "data": {
      "text/html": [
       "<div>\n",
       "<style scoped>\n",
       "    .dataframe tbody tr th:only-of-type {\n",
       "        vertical-align: middle;\n",
       "    }\n",
       "\n",
       "    .dataframe tbody tr th {\n",
       "        vertical-align: top;\n",
       "    }\n",
       "\n",
       "    .dataframe thead th {\n",
       "        text-align: right;\n",
       "    }\n",
       "</style>\n",
       "<table border=\"1\" class=\"dataframe\">\n",
       "  <thead>\n",
       "    <tr style=\"text-align: right;\">\n",
       "      <th></th>\n",
       "      <th>VendorID</th>\n",
       "      <th>tpep_pickup_datetime</th>\n",
       "      <th>tpep_dropoff_datetime</th>\n",
       "      <th>passenger_count</th>\n",
       "      <th>trip_distance</th>\n",
       "      <th>pickup_longitude</th>\n",
       "      <th>pickup_latitude</th>\n",
       "      <th>RatecodeID</th>\n",
       "      <th>store_and_fwd_flag</th>\n",
       "      <th>dropoff_longitude</th>\n",
       "      <th>...</th>\n",
       "      <th>payment_type</th>\n",
       "      <th>fare_amount</th>\n",
       "      <th>extra</th>\n",
       "      <th>mta_tax</th>\n",
       "      <th>tip_amount</th>\n",
       "      <th>tolls_amount</th>\n",
       "      <th>improvement_surcharge</th>\n",
       "      <th>total_amount</th>\n",
       "      <th>PULocationID</th>\n",
       "      <th>DOLocationID</th>\n",
       "    </tr>\n",
       "  </thead>\n",
       "  <tbody>\n",
       "    <tr>\n",
       "      <th>0</th>\n",
       "      <td>1</td>\n",
       "      <td>2016-06-06 00:00:00</td>\n",
       "      <td>2016-06-06 00:16:57</td>\n",
       "      <td>1</td>\n",
       "      <td>6.60</td>\n",
       "      <td>-73.946548</td>\n",
       "      <td>40.785099</td>\n",
       "      <td>1</td>\n",
       "      <td>N</td>\n",
       "      <td>-73.923866</td>\n",
       "      <td>...</td>\n",
       "      <td>3</td>\n",
       "      <td>20.0</td>\n",
       "      <td>0.5</td>\n",
       "      <td>0.5</td>\n",
       "      <td>0.00</td>\n",
       "      <td>0.00</td>\n",
       "      <td>0.3</td>\n",
       "      <td>21.30</td>\n",
       "      <td>NaN</td>\n",
       "      <td>NaN</td>\n",
       "    </tr>\n",
       "    <tr>\n",
       "      <th>1</th>\n",
       "      <td>2</td>\n",
       "      <td>2016-06-06 00:00:00</td>\n",
       "      <td>2016-06-06 00:00:00</td>\n",
       "      <td>1</td>\n",
       "      <td>4.27</td>\n",
       "      <td>-73.952385</td>\n",
       "      <td>40.741501</td>\n",
       "      <td>2</td>\n",
       "      <td>N</td>\n",
       "      <td>-74.004097</td>\n",
       "      <td>...</td>\n",
       "      <td>1</td>\n",
       "      <td>52.0</td>\n",
       "      <td>0.0</td>\n",
       "      <td>0.5</td>\n",
       "      <td>0.00</td>\n",
       "      <td>5.54</td>\n",
       "      <td>0.3</td>\n",
       "      <td>58.34</td>\n",
       "      <td>NaN</td>\n",
       "      <td>NaN</td>\n",
       "    </tr>\n",
       "    <tr>\n",
       "      <th>2</th>\n",
       "      <td>2</td>\n",
       "      <td>2016-06-06 00:00:00</td>\n",
       "      <td>2016-06-06 18:07:49</td>\n",
       "      <td>1</td>\n",
       "      <td>2.02</td>\n",
       "      <td>-73.978745</td>\n",
       "      <td>40.750641</td>\n",
       "      <td>1</td>\n",
       "      <td>N</td>\n",
       "      <td>-73.997108</td>\n",
       "      <td>...</td>\n",
       "      <td>1</td>\n",
       "      <td>10.0</td>\n",
       "      <td>1.3</td>\n",
       "      <td>0.5</td>\n",
       "      <td>1.25</td>\n",
       "      <td>0.00</td>\n",
       "      <td>0.3</td>\n",
       "      <td>13.35</td>\n",
       "      <td>NaN</td>\n",
       "      <td>NaN</td>\n",
       "    </tr>\n",
       "    <tr>\n",
       "      <th>3</th>\n",
       "      <td>2</td>\n",
       "      <td>2016-06-06 00:00:01</td>\n",
       "      <td>2016-06-06 00:04:05</td>\n",
       "      <td>2</td>\n",
       "      <td>1.37</td>\n",
       "      <td>-73.980690</td>\n",
       "      <td>40.742210</td>\n",
       "      <td>1</td>\n",
       "      <td>N</td>\n",
       "      <td>-73.967842</td>\n",
       "      <td>...</td>\n",
       "      <td>1</td>\n",
       "      <td>6.0</td>\n",
       "      <td>0.5</td>\n",
       "      <td>0.5</td>\n",
       "      <td>1.82</td>\n",
       "      <td>0.00</td>\n",
       "      <td>0.3</td>\n",
       "      <td>9.12</td>\n",
       "      <td>NaN</td>\n",
       "      <td>NaN</td>\n",
       "    </tr>\n",
       "    <tr>\n",
       "      <th>4</th>\n",
       "      <td>1</td>\n",
       "      <td>2016-06-06 00:00:02</td>\n",
       "      <td>2016-06-06 00:03:36</td>\n",
       "      <td>1</td>\n",
       "      <td>0.90</td>\n",
       "      <td>-73.986794</td>\n",
       "      <td>40.756310</td>\n",
       "      <td>1</td>\n",
       "      <td>N</td>\n",
       "      <td>-73.976067</td>\n",
       "      <td>...</td>\n",
       "      <td>2</td>\n",
       "      <td>5.0</td>\n",
       "      <td>0.5</td>\n",
       "      <td>0.5</td>\n",
       "      <td>0.00</td>\n",
       "      <td>0.00</td>\n",
       "      <td>0.3</td>\n",
       "      <td>6.30</td>\n",
       "      <td>NaN</td>\n",
       "      <td>NaN</td>\n",
       "    </tr>\n",
       "  </tbody>\n",
       "</table>\n",
       "<p>5 rows × 21 columns</p>\n",
       "</div>"
      ],
      "text/plain": [
       "   VendorID tpep_pickup_datetime tpep_dropoff_datetime  passenger_count  \\\n",
       "0         1  2016-06-06 00:00:00   2016-06-06 00:16:57                1   \n",
       "1         2  2016-06-06 00:00:00   2016-06-06 00:00:00                1   \n",
       "2         2  2016-06-06 00:00:00   2016-06-06 18:07:49                1   \n",
       "3         2  2016-06-06 00:00:01   2016-06-06 00:04:05                2   \n",
       "4         1  2016-06-06 00:00:02   2016-06-06 00:03:36                1   \n",
       "\n",
       "   trip_distance  pickup_longitude  pickup_latitude  RatecodeID  \\\n",
       "0           6.60        -73.946548        40.785099           1   \n",
       "1           4.27        -73.952385        40.741501           2   \n",
       "2           2.02        -73.978745        40.750641           1   \n",
       "3           1.37        -73.980690        40.742210           1   \n",
       "4           0.90        -73.986794        40.756310           1   \n",
       "\n",
       "  store_and_fwd_flag  dropoff_longitude  ...  payment_type  fare_amount  \\\n",
       "0                  N         -73.923866  ...             3         20.0   \n",
       "1                  N         -74.004097  ...             1         52.0   \n",
       "2                  N         -73.997108  ...             1         10.0   \n",
       "3                  N         -73.967842  ...             1          6.0   \n",
       "4                  N         -73.976067  ...             2          5.0   \n",
       "\n",
       "   extra  mta_tax  tip_amount  tolls_amount  improvement_surcharge  \\\n",
       "0    0.5      0.5        0.00          0.00                    0.3   \n",
       "1    0.0      0.5        0.00          5.54                    0.3   \n",
       "2    1.3      0.5        1.25          0.00                    0.3   \n",
       "3    0.5      0.5        1.82          0.00                    0.3   \n",
       "4    0.5      0.5        0.00          0.00                    0.3   \n",
       "\n",
       "   total_amount  PULocationID  DOLocationID  \n",
       "0         21.30           NaN           NaN  \n",
       "1         58.34           NaN           NaN  \n",
       "2         13.35           NaN           NaN  \n",
       "3          9.12           NaN           NaN  \n",
       "4          6.30           NaN           NaN  \n",
       "\n",
       "[5 rows x 21 columns]"
      ]
     },
     "execution_count": 14,
     "metadata": {},
     "output_type": "execute_result"
    }
   ],
   "source": [
    "df.head()"
   ]
  },
  {
   "cell_type": "code",
   "execution_count": 15,
   "metadata": {},
   "outputs": [],
   "source": [
    "df = df.drop(df.index[(df.tpep_dropoff_datetime-df.tpep_pickup_datetime).astype('timedelta64[s]') < 95])"
   ]
  },
  {
   "cell_type": "code",
   "execution_count": 184,
   "metadata": {},
   "outputs": [],
   "source": [
    "#2559609"
   ]
  },
  {
   "cell_type": "code",
   "execution_count": 17,
   "metadata": {},
   "outputs": [],
   "source": [
    "df = df.drop(df.index[df.passenger_count == 0])\n",
    "#ok"
   ]
  },
  {
   "cell_type": "code",
   "execution_count": 18,
   "metadata": {},
   "outputs": [
    {
     "data": {
      "text/plain": [
       "(2556812, 21)"
      ]
     },
     "execution_count": 18,
     "metadata": {},
     "output_type": "execute_result"
    }
   ],
   "source": [
    "df.shape"
   ]
  },
  {
   "cell_type": "code",
   "execution_count": 19,
   "metadata": {},
   "outputs": [
    {
     "data": {
      "text/plain": [
       "VendorID                 747125\n",
       "tpep_pickup_datetime     747125\n",
       "tpep_dropoff_datetime    747125\n",
       "passenger_count          747125\n",
       "trip_distance            747125\n",
       "pickup_longitude         747125\n",
       "pickup_latitude          747125\n",
       "RatecodeID               747125\n",
       "store_and_fwd_flag       747125\n",
       "dropoff_longitude        747125\n",
       "dropoff_latitude         747125\n",
       "payment_type             747125\n",
       "fare_amount              747125\n",
       "extra                    747125\n",
       "mta_tax                  747125\n",
       "tip_amount               747125\n",
       "tolls_amount             747125\n",
       "improvement_surcharge    747125\n",
       "total_amount             747125\n",
       "PULocationID                  0\n",
       "DOLocationID                  0\n",
       "dtype: int64"
      ]
     },
     "execution_count": 19,
     "metadata": {},
     "output_type": "execute_result"
    }
   ],
   "source": [
    "df[df['passenger_count'] > 1].count()"
   ]
  },
  {
   "cell_type": "code",
   "execution_count": 20,
   "metadata": {},
   "outputs": [
    {
     "data": {
      "text/plain": [
       "passenger_count\n",
       "1    1809687\n",
       "2     372610\n",
       "3     107552\n",
       "4      50783\n",
       "5     134102\n",
       "6      82075\n",
       "7          2\n",
       "8          1\n",
       "dtype: int64"
      ]
     },
     "execution_count": 20,
     "metadata": {},
     "output_type": "execute_result"
    }
   ],
   "source": [
    "df.groupby('passenger_count').size()"
   ]
  },
  {
   "cell_type": "code",
   "execution_count": 21,
   "metadata": {},
   "outputs": [],
   "source": [
    "df2 = df"
   ]
  },
  {
   "cell_type": "code",
   "execution_count": 22,
   "metadata": {},
   "outputs": [],
   "source": [
    "df2 = df2.loc[df2.index.repeat(df.passenger_count)]"
   ]
  },
  {
   "cell_type": "code",
   "execution_count": 23,
   "metadata": {},
   "outputs": [
    {
     "data": {
      "text/plain": [
       "(4243677, 21)"
      ]
     },
     "execution_count": 23,
     "metadata": {},
     "output_type": "execute_result"
    }
   ],
   "source": [
    "df2.shape"
   ]
  },
  {
   "cell_type": "code",
   "execution_count": 24,
   "metadata": {},
   "outputs": [
    {
     "data": {
      "text/html": [
       "<div>\n",
       "<style scoped>\n",
       "    .dataframe tbody tr th:only-of-type {\n",
       "        vertical-align: middle;\n",
       "    }\n",
       "\n",
       "    .dataframe tbody tr th {\n",
       "        vertical-align: top;\n",
       "    }\n",
       "\n",
       "    .dataframe thead th {\n",
       "        text-align: right;\n",
       "    }\n",
       "</style>\n",
       "<table border=\"1\" class=\"dataframe\">\n",
       "  <thead>\n",
       "    <tr style=\"text-align: right;\">\n",
       "      <th></th>\n",
       "      <th>VendorID</th>\n",
       "      <th>tpep_pickup_datetime</th>\n",
       "      <th>tpep_dropoff_datetime</th>\n",
       "      <th>passenger_count</th>\n",
       "      <th>trip_distance</th>\n",
       "      <th>pickup_longitude</th>\n",
       "      <th>pickup_latitude</th>\n",
       "      <th>RatecodeID</th>\n",
       "      <th>store_and_fwd_flag</th>\n",
       "      <th>dropoff_longitude</th>\n",
       "      <th>...</th>\n",
       "      <th>payment_type</th>\n",
       "      <th>fare_amount</th>\n",
       "      <th>extra</th>\n",
       "      <th>mta_tax</th>\n",
       "      <th>tip_amount</th>\n",
       "      <th>tolls_amount</th>\n",
       "      <th>improvement_surcharge</th>\n",
       "      <th>total_amount</th>\n",
       "      <th>PULocationID</th>\n",
       "      <th>DOLocationID</th>\n",
       "    </tr>\n",
       "  </thead>\n",
       "  <tbody>\n",
       "    <tr>\n",
       "      <th>0</th>\n",
       "      <td>1</td>\n",
       "      <td>2016-06-06 00:00:00</td>\n",
       "      <td>2016-06-06 00:16:57</td>\n",
       "      <td>1</td>\n",
       "      <td>6.60</td>\n",
       "      <td>-73.946548</td>\n",
       "      <td>40.785099</td>\n",
       "      <td>1</td>\n",
       "      <td>N</td>\n",
       "      <td>-73.923866</td>\n",
       "      <td>...</td>\n",
       "      <td>3</td>\n",
       "      <td>20.0</td>\n",
       "      <td>0.5</td>\n",
       "      <td>0.5</td>\n",
       "      <td>0.00</td>\n",
       "      <td>0.0</td>\n",
       "      <td>0.3</td>\n",
       "      <td>21.30</td>\n",
       "      <td>NaN</td>\n",
       "      <td>NaN</td>\n",
       "    </tr>\n",
       "    <tr>\n",
       "      <th>2</th>\n",
       "      <td>2</td>\n",
       "      <td>2016-06-06 00:00:00</td>\n",
       "      <td>2016-06-06 18:07:49</td>\n",
       "      <td>1</td>\n",
       "      <td>2.02</td>\n",
       "      <td>-73.978745</td>\n",
       "      <td>40.750641</td>\n",
       "      <td>1</td>\n",
       "      <td>N</td>\n",
       "      <td>-73.997108</td>\n",
       "      <td>...</td>\n",
       "      <td>1</td>\n",
       "      <td>10.0</td>\n",
       "      <td>1.3</td>\n",
       "      <td>0.5</td>\n",
       "      <td>1.25</td>\n",
       "      <td>0.0</td>\n",
       "      <td>0.3</td>\n",
       "      <td>13.35</td>\n",
       "      <td>NaN</td>\n",
       "      <td>NaN</td>\n",
       "    </tr>\n",
       "    <tr>\n",
       "      <th>3</th>\n",
       "      <td>2</td>\n",
       "      <td>2016-06-06 00:00:01</td>\n",
       "      <td>2016-06-06 00:04:05</td>\n",
       "      <td>2</td>\n",
       "      <td>1.37</td>\n",
       "      <td>-73.980690</td>\n",
       "      <td>40.742210</td>\n",
       "      <td>1</td>\n",
       "      <td>N</td>\n",
       "      <td>-73.967842</td>\n",
       "      <td>...</td>\n",
       "      <td>1</td>\n",
       "      <td>6.0</td>\n",
       "      <td>0.5</td>\n",
       "      <td>0.5</td>\n",
       "      <td>1.82</td>\n",
       "      <td>0.0</td>\n",
       "      <td>0.3</td>\n",
       "      <td>9.12</td>\n",
       "      <td>NaN</td>\n",
       "      <td>NaN</td>\n",
       "    </tr>\n",
       "    <tr>\n",
       "      <th>3</th>\n",
       "      <td>2</td>\n",
       "      <td>2016-06-06 00:00:01</td>\n",
       "      <td>2016-06-06 00:04:05</td>\n",
       "      <td>2</td>\n",
       "      <td>1.37</td>\n",
       "      <td>-73.980690</td>\n",
       "      <td>40.742210</td>\n",
       "      <td>1</td>\n",
       "      <td>N</td>\n",
       "      <td>-73.967842</td>\n",
       "      <td>...</td>\n",
       "      <td>1</td>\n",
       "      <td>6.0</td>\n",
       "      <td>0.5</td>\n",
       "      <td>0.5</td>\n",
       "      <td>1.82</td>\n",
       "      <td>0.0</td>\n",
       "      <td>0.3</td>\n",
       "      <td>9.12</td>\n",
       "      <td>NaN</td>\n",
       "      <td>NaN</td>\n",
       "    </tr>\n",
       "    <tr>\n",
       "      <th>4</th>\n",
       "      <td>1</td>\n",
       "      <td>2016-06-06 00:00:02</td>\n",
       "      <td>2016-06-06 00:03:36</td>\n",
       "      <td>1</td>\n",
       "      <td>0.90</td>\n",
       "      <td>-73.986794</td>\n",
       "      <td>40.756310</td>\n",
       "      <td>1</td>\n",
       "      <td>N</td>\n",
       "      <td>-73.976067</td>\n",
       "      <td>...</td>\n",
       "      <td>2</td>\n",
       "      <td>5.0</td>\n",
       "      <td>0.5</td>\n",
       "      <td>0.5</td>\n",
       "      <td>0.00</td>\n",
       "      <td>0.0</td>\n",
       "      <td>0.3</td>\n",
       "      <td>6.30</td>\n",
       "      <td>NaN</td>\n",
       "      <td>NaN</td>\n",
       "    </tr>\n",
       "  </tbody>\n",
       "</table>\n",
       "<p>5 rows × 21 columns</p>\n",
       "</div>"
      ],
      "text/plain": [
       "   VendorID tpep_pickup_datetime tpep_dropoff_datetime  passenger_count  \\\n",
       "0         1  2016-06-06 00:00:00   2016-06-06 00:16:57                1   \n",
       "2         2  2016-06-06 00:00:00   2016-06-06 18:07:49                1   \n",
       "3         2  2016-06-06 00:00:01   2016-06-06 00:04:05                2   \n",
       "3         2  2016-06-06 00:00:01   2016-06-06 00:04:05                2   \n",
       "4         1  2016-06-06 00:00:02   2016-06-06 00:03:36                1   \n",
       "\n",
       "   trip_distance  pickup_longitude  pickup_latitude  RatecodeID  \\\n",
       "0           6.60        -73.946548        40.785099           1   \n",
       "2           2.02        -73.978745        40.750641           1   \n",
       "3           1.37        -73.980690        40.742210           1   \n",
       "3           1.37        -73.980690        40.742210           1   \n",
       "4           0.90        -73.986794        40.756310           1   \n",
       "\n",
       "  store_and_fwd_flag  dropoff_longitude  ...  payment_type  fare_amount  \\\n",
       "0                  N         -73.923866  ...             3         20.0   \n",
       "2                  N         -73.997108  ...             1         10.0   \n",
       "3                  N         -73.967842  ...             1          6.0   \n",
       "3                  N         -73.967842  ...             1          6.0   \n",
       "4                  N         -73.976067  ...             2          5.0   \n",
       "\n",
       "   extra  mta_tax  tip_amount  tolls_amount  improvement_surcharge  \\\n",
       "0    0.5      0.5        0.00           0.0                    0.3   \n",
       "2    1.3      0.5        1.25           0.0                    0.3   \n",
       "3    0.5      0.5        1.82           0.0                    0.3   \n",
       "3    0.5      0.5        1.82           0.0                    0.3   \n",
       "4    0.5      0.5        0.00           0.0                    0.3   \n",
       "\n",
       "   total_amount  PULocationID  DOLocationID  \n",
       "0         21.30           NaN           NaN  \n",
       "2         13.35           NaN           NaN  \n",
       "3          9.12           NaN           NaN  \n",
       "3          9.12           NaN           NaN  \n",
       "4          6.30           NaN           NaN  \n",
       "\n",
       "[5 rows x 21 columns]"
      ]
     },
     "execution_count": 24,
     "metadata": {},
     "output_type": "execute_result"
    }
   ],
   "source": [
    "df2.head()"
   ]
  },
  {
   "cell_type": "code",
   "execution_count": 25,
   "metadata": {},
   "outputs": [],
   "source": [
    "df2 = df2.drop(df2.index[df2.passenger_count > 3])"
   ]
  },
  {
   "cell_type": "code",
   "execution_count": 28,
   "metadata": {},
   "outputs": [
    {
     "data": {
      "text/plain": [
       "(2877563, 21)"
      ]
     },
     "execution_count": 28,
     "metadata": {},
     "output_type": "execute_result"
    }
   ],
   "source": [
    "df2.shape"
   ]
  },
  {
   "cell_type": "markdown",
   "metadata": {},
   "source": [
    "# generating datasets based on Timestamp"
   ]
  },
  {
   "cell_type": "code",
   "execution_count": 90,
   "metadata": {},
   "outputs": [],
   "source": [
    "df_timestamp = min(df2['tpep_pickup_datetime']) + timedelta(minutes = 5)"
   ]
  },
  {
   "cell_type": "code",
   "execution_count": 87,
   "metadata": {},
   "outputs": [],
   "source": [
    "max_timestamp = max(df2['tpep_pickup_datetime'])"
   ]
  },
  {
   "cell_type": "code",
   "execution_count": 88,
   "metadata": {},
   "outputs": [],
   "source": [
    "time_increments = []"
   ]
  },
  {
   "cell_type": "code",
   "execution_count": 92,
   "metadata": {},
   "outputs": [],
   "source": [
    "while df_timestamp <= max_timestamp:\n",
    "    df_timestamp += timedelta(minutes = 5)\n",
    "    time_increments.append(df_timestamp)"
   ]
  },
  {
   "cell_type": "code",
   "execution_count": 175,
   "metadata": {},
   "outputs": [
    {
     "data": {
      "text/plain": [
       "Timestamp('2016-06-13 00:00:00')"
      ]
     },
     "execution_count": 175,
     "metadata": {},
     "output_type": "execute_result"
    }
   ],
   "source": [
    "time_increments[-1]"
   ]
  },
  {
   "cell_type": "code",
   "execution_count": 34,
   "metadata": {},
   "outputs": [],
   "source": [
    "testanna = df2[df2['tpep_pickup_datetime'] < df_timestamp]"
   ]
  },
  {
   "cell_type": "code",
   "execution_count": 188,
   "metadata": {},
   "outputs": [
    {
     "data": {
      "text/plain": [
       "(765, 21)"
      ]
     },
     "execution_count": 188,
     "metadata": {},
     "output_type": "execute_result"
    }
   ],
   "source": [
    "testanna.shape"
   ]
  },
  {
   "cell_type": "markdown",
   "metadata": {},
   "source": [
    "# clustering algorithm"
   ]
  },
  {
   "cell_type": "code",
   "execution_count": 176,
   "metadata": {},
   "outputs": [],
   "source": [
    "#from sklearn.cluster import KMeans"
   ]
  },
  {
   "cell_type": "code",
   "execution_count": 177,
   "metadata": {},
   "outputs": [],
   "source": [
    "#print('The scikit-learn version is {}.'.format(sklearn.__version__))"
   ]
  },
  {
   "cell_type": "code",
   "execution_count": 152,
   "metadata": {},
   "outputs": [],
   "source": [
    "test = testanna[['pickup_latitude','pickup_longitude','dropoff_latitude','dropoff_longitude']].values"
   ]
  },
  {
   "cell_type": "code",
   "execution_count": 153,
   "metadata": {},
   "outputs": [
    {
     "data": {
      "text/plain": [
       "array([ 40.78509903, -73.94654846,  40.80770493, -73.92386627])"
      ]
     },
     "execution_count": 153,
     "metadata": {},
     "output_type": "execute_result"
    }
   ],
   "source": [
    "test[0]"
   ]
  },
  {
   "cell_type": "code",
   "execution_count": 154,
   "metadata": {},
   "outputs": [],
   "source": [
    "import matplotlib.pyplot as plt\n",
    "from scipy.cluster.hierarchy import dendrogram, linkage"
   ]
  },
  {
   "cell_type": "markdown",
   "metadata": {},
   "source": [
    "### ward is an appropriate method for this excercise as it minimizes variance between clusters"
   ]
  },
  {
   "cell_type": "code",
   "execution_count": 155,
   "metadata": {},
   "outputs": [],
   "source": [
    "Z = linkage(test, method='ward',  # dissimilarity metric: max distance across all pairs of records between two clusters,\n",
    "            metric='euclidean')  "
   ]
  },
  {
   "cell_type": "code",
   "execution_count": 171,
   "metadata": {},
   "outputs": [
    {
     "data": {
      "image/png": "[encoded data removed]",
      "text/plain": [
       "<Figure size 720x21600 with 1 Axes>"
      ]
     },
     "metadata": {
      "needs_background": "light"
     },
     "output_type": "display_data"
    }
   ],
   "source": [
    "plt.figure(figsize=(10, 300))\n",
    "dendrogram(Z)\n",
    "plt.show()"
   ]
  },
  {
   "cell_type": "code",
   "execution_count": 185,
   "metadata": {},
   "outputs": [
    {
     "data": {
      "text/plain": [
       "764"
      ]
     },
     "execution_count": 185,
     "metadata": {},
     "output_type": "execute_result"
    }
   ],
   "source": [
    "len(Z)"
   ]
  },
  {
   "cell_type": "code",
   "execution_count": 192,
   "metadata": {},
   "outputs": [
    {
     "data": {
      "text/plain": [
       "array([232., 766.,   0.,   3.])"
      ]
     },
     "execution_count": 192,
     "metadata": {},
     "output_type": "execute_result"
    }
   ],
   "source": [
    "Z[2]"
   ]
  },
  {
   "cell_type": "code",
   "execution_count": 136,
   "metadata": {},
   "outputs": [],
   "source": [
    "from scipy.cluster.hierarchy import fcluster"
   ]
  },
  {
   "cell_type": "code",
   "execution_count": 137,
   "metadata": {},
   "outputs": [],
   "source": [
    "max_d = .015"
   ]
  },
  {
   "cell_type": "code",
   "execution_count": 138,
   "metadata": {},
   "outputs": [],
   "source": [
    "clusters = fcluster(Z, max_d, criterion='distance')"
   ]
  },
  {
   "cell_type": "code",
   "execution_count": 220,
   "metadata": {
    "scrolled": true
   },
   "outputs": [
    {
     "data": {
      "text/plain": [
       "765"
      ]
     },
     "execution_count": 220,
     "metadata": {},
     "output_type": "execute_result"
    }
   ],
   "source": [
    "len(clusters)"
   ]
  },
  {
   "cell_type": "code",
   "execution_count": 226,
   "metadata": {},
   "outputs": [],
   "source": [
    "import folium"
   ]
  },
  {
   "cell_type": "code",
   "execution_count": 235,
   "metadata": {},
   "outputs": [],
   "source": [
    "manmap = folium.Map(location=(40.73710187406455,-73.98504387121216), zoom_start=12)"
   ]
  },
  {
   "cell_type": "code",
   "execution_count": 230,
   "metadata": {},
   "outputs": [],
   "source": [
    "from folium.plugins import HeatMap"
   ]
  },
  {
   "cell_type": "code",
   "execution_count": 256,
   "metadata": {},
   "outputs": [],
   "source": [
    "res = np.where(clusters == 247)"
   ]
  },
  {
   "cell_type": "code",
   "execution_count": 273,
   "metadata": {},
   "outputs": [],
   "source": [
    "a = [198, 241, 294, 295, 296]"
   ]
  },
  {
   "cell_type": "code",
   "execution_count": 278,
   "metadata": {},
   "outputs": [],
   "source": [
    "lists_fast = []"
   ]
  },
  {
   "cell_type": "code",
   "execution_count": 281,
   "metadata": {},
   "outputs": [],
   "source": [
    "for x in a:\n",
    "    lists_fast.append([testanna.iloc[x,:]['pickup_latitude'],testanna.iloc[x,:]['pickup_longitude']])\n",
    "    #folium.Marker([testanna.iloc[x,:]['pickup_latitude'],testanna.iloc[x,:]['pickup_longitude']]).add_to(manmap)"
   ]
  },
  {
   "cell_type": "code",
   "execution_count": 282,
   "metadata": {},
   "outputs": [
    {
     "data": {
      "text/plain": [
       "<folium.plugins.heat_map.HeatMap at 0x20c95354be0>"
      ]
     },
     "execution_count": 282,
     "metadata": {},
     "output_type": "execute_result"
    }
   ],
   "source": [
    "HeatMap(lists_fast).add_to(manmap)"
   ]
  },
  {
   "cell_type": "code",
   "execution_count": 283,
   "metadata": {},
   "outputs": [
    {
     "data": {
      "text/html": [
       "<div style=\"width:100%;\"><div style=\"position:relative;width:100%;height:0;padding-bottom:60%;\"><iframe src=\"data:text/html;charset=utf-8;base64,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\" style=\"position:absolute;width:100%;height:100%;left:0;top:0;border:none !important;\" allowfullscreen webkitallowfullscreen mozallowfullscreen></iframe></div></div>"
      ],
      "text/plain": [
       "<folium.folium.Map at 0x20c96fd43c8>"
      ]
     },
     "execution_count": 283,
     "metadata": {},
     "output_type": "execute_result"
    }
   ],
   "source": [
    "manmap"
   ]
  },
  {
   "cell_type": "code",
   "execution_count": 140,
   "metadata": {},
   "outputs": [],
   "source": [
    "unique, counts = np.unique(clusters, return_counts=True)"
   ]
  },
  {
   "cell_type": "code",
   "execution_count": 141,
   "metadata": {},
   "outputs": [],
   "source": [
    "first_clusters = dict(zip(unique, counts))"
   ]
  },
  {
   "cell_type": "code",
   "execution_count": 142,
   "metadata": {},
   "outputs": [
    {
     "data": {
      "text/plain": [
       "341"
      ]
     },
     "execution_count": 142,
     "metadata": {},
     "output_type": "execute_result"
    }
   ],
   "source": [
    "len(dict(zip(unique, counts)))"
   ]
  },
  {
   "cell_type": "code",
   "execution_count": 143,
   "metadata": {},
   "outputs": [
    {
     "data": {
      "text/plain": [
       "341"
      ]
     },
     "execution_count": 143,
     "metadata": {},
     "output_type": "execute_result"
    }
   ],
   "source": [
    "len(fibrst_clusters)"
   ]
  },
  {
   "cell_type": "code",
   "execution_count": 158,
   "metadata": {},
   "outputs": [
    {
     "data": {
      "text/plain": [
       "{1: 2,\n",
       " 2: 1,\n",
       " 3: 1,\n",
       " 4: 2,\n",
       " 5: 1,\n",
       " 6: 1,\n",
       " 7: 1,\n",
       " 8: 1,\n",
       " 9: 2,\n",
       " 10: 1,\n",
       " 11: 2,\n",
       " 12: 1,\n",
       " 13: 1,\n",
       " 14: 4,\n",
       " 15: 2,\n",
       " 16: 2,\n",
       " 17: 1,\n",
       " 18: 2,\n",
       " 19: 1,\n",
       " 20: 1,\n",
       " 21: 2,\n",
       " 22: 1,\n",
       " 23: 1,\n",
       " 24: 1,\n",
       " 25: 1,\n",
       " 26: 2,\n",
       " 27: 3,\n",
       " 28: 1,\n",
       " 29: 1,\n",
       " 30: 1,\n",
       " 31: 2,\n",
       " 32: 3,\n",
       " 33: 4,\n",
       " 34: 1,\n",
       " 35: 1,\n",
       " 36: 1,\n",
       " 37: 3,\n",
       " 38: 1,\n",
       " 39: 1,\n",
       " 40: 1,\n",
       " 41: 1,\n",
       " 42: 1,\n",
       " 43: 2,\n",
       " 44: 2,\n",
       " 45: 1,\n",
       " 46: 3,\n",
       " 47: 3,\n",
       " 48: 2,\n",
       " 49: 5,\n",
       " 50: 4,\n",
       " 51: 4,\n",
       " 52: 2,\n",
       " 53: 1,\n",
       " 54: 2,\n",
       " 55: 2,\n",
       " 56: 1,\n",
       " 57: 3,\n",
       " 58: 2,\n",
       " 59: 3,\n",
       " 60: 3,\n",
       " 61: 4,\n",
       " 62: 3,\n",
       " 63: 1,\n",
       " 64: 2,\n",
       " 65: 2,\n",
       " 66: 2,\n",
       " 67: 3,\n",
       " 68: 2,\n",
       " 69: 1,\n",
       " 70: 1,\n",
       " 71: 1,\n",
       " 72: 1,\n",
       " 73: 1,\n",
       " 74: 2,\n",
       " 75: 1,\n",
       " 76: 3,\n",
       " 77: 2,\n",
       " 78: 1,\n",
       " 79: 2,\n",
       " 80: 3,\n",
       " 81: 2,\n",
       " 82: 1,\n",
       " 83: 3,\n",
       " 84: 2,\n",
       " 85: 2,\n",
       " 86: 1,\n",
       " 87: 4,\n",
       " 88: 4,\n",
       " 89: 3,\n",
       " 90: 1,\n",
       " 91: 4,\n",
       " 92: 2,\n",
       " 93: 3,\n",
       " 94: 1,\n",
       " 95: 1,\n",
       " 96: 1,\n",
       " 97: 3,\n",
       " 98: 1,\n",
       " 99: 2,\n",
       " 100: 2,\n",
       " 101: 1,\n",
       " 102: 1,\n",
       " 103: 1,\n",
       " 104: 2,\n",
       " 105: 1,\n",
       " 106: 1,\n",
       " 107: 1,\n",
       " 108: 1,\n",
       " 109: 3,\n",
       " 110: 1,\n",
       " 111: 4,\n",
       " 112: 1,\n",
       " 113: 1,\n",
       " 114: 1,\n",
       " 115: 1,\n",
       " 116: 3,\n",
       " 117: 1,\n",
       " 118: 1,\n",
       " 119: 1,\n",
       " 120: 1,\n",
       " 121: 2,\n",
       " 122: 3,\n",
       " 123: 1,\n",
       " 124: 1,\n",
       " 125: 2,\n",
       " 126: 1,\n",
       " 127: 1,\n",
       " 128: 1,\n",
       " 129: 2,\n",
       " 130: 3,\n",
       " 131: 2,\n",
       " 132: 2,\n",
       " 133: 1,\n",
       " 134: 2,\n",
       " 135: 1,\n",
       " 136: 1,\n",
       " 137: 2,\n",
       " 138: 1,\n",
       " 139: 2,\n",
       " 140: 2,\n",
       " 141: 1,\n",
       " 142: 3,\n",
       " 143: 3,\n",
       " 144: 3,\n",
       " 145: 5,\n",
       " 146: 1,\n",
       " 147: 2,\n",
       " 148: 3,\n",
       " 149: 1,\n",
       " 150: 5,\n",
       " 151: 3,\n",
       " 152: 2,\n",
       " 153: 3,\n",
       " 154: 5,\n",
       " 155: 2,\n",
       " 156: 2,\n",
       " 157: 3,\n",
       " 158: 1,\n",
       " 159: 1,\n",
       " 160: 5,\n",
       " 161: 3,\n",
       " 162: 6,\n",
       " 163: 6,\n",
       " 164: 1,\n",
       " 165: 3,\n",
       " 166: 1,\n",
       " 167: 1,\n",
       " 168: 5,\n",
       " 169: 5,\n",
       " 170: 3,\n",
       " 171: 5,\n",
       " 172: 3,\n",
       " 173: 3,\n",
       " 174: 3,\n",
       " 175: 7,\n",
       " 176: 2,\n",
       " 177: 5,\n",
       " 178: 2,\n",
       " 179: 3,\n",
       " 180: 1,\n",
       " 181: 1,\n",
       " 182: 2,\n",
       " 183: 2,\n",
       " 184: 6,\n",
       " 185: 1,\n",
       " 186: 9,\n",
       " 187: 3,\n",
       " 188: 2,\n",
       " 189: 3,\n",
       " 190: 2,\n",
       " 191: 1,\n",
       " 192: 2,\n",
       " 193: 3,\n",
       " 194: 2,\n",
       " 195: 3,\n",
       " 196: 5,\n",
       " 197: 2,\n",
       " 198: 4,\n",
       " 199: 2,\n",
       " 200: 3,\n",
       " 201: 3,\n",
       " 202: 3,\n",
       " 203: 2,\n",
       " 204: 2,\n",
       " 205: 1,\n",
       " 206: 1,\n",
       " 207: 4,\n",
       " 208: 4,\n",
       " 209: 8,\n",
       " 210: 1,\n",
       " 211: 3,\n",
       " 212: 1,\n",
       " 213: 2,\n",
       " 214: 3,\n",
       " 215: 2,\n",
       " 216: 6,\n",
       " 217: 5,\n",
       " 218: 3,\n",
       " 219: 6,\n",
       " 220: 3,\n",
       " 221: 2,\n",
       " 222: 9,\n",
       " 223: 1,\n",
       " 224: 2,\n",
       " 225: 4,\n",
       " 226: 2,\n",
       " 227: 4,\n",
       " 228: 3,\n",
       " 229: 5,\n",
       " 230: 1,\n",
       " 231: 3,\n",
       " 232: 5,\n",
       " 233: 2,\n",
       " 234: 1,\n",
       " 235: 1,\n",
       " 236: 1,\n",
       " 237: 4,\n",
       " 238: 4,\n",
       " 239: 4,\n",
       " 240: 4,\n",
       " 241: 4,\n",
       " 242: 4,\n",
       " 243: 3,\n",
       " 244: 3,\n",
       " 245: 2,\n",
       " 246: 2,\n",
       " 247: 5,\n",
       " 248: 2,\n",
       " 249: 6,\n",
       " 250: 2,\n",
       " 251: 10,\n",
       " 252: 5,\n",
       " 253: 5,\n",
       " 254: 1,\n",
       " 255: 1,\n",
       " 256: 1,\n",
       " 257: 2,\n",
       " 258: 1,\n",
       " 259: 2,\n",
       " 260: 2,\n",
       " 261: 2,\n",
       " 262: 7,\n",
       " 263: 3,\n",
       " 264: 2,\n",
       " 265: 1,\n",
       " 266: 1,\n",
       " 267: 4,\n",
       " 268: 3,\n",
       " 269: 4,\n",
       " 270: 4,\n",
       " 271: 4,\n",
       " 272: 1,\n",
       " 273: 2,\n",
       " 274: 3,\n",
       " 275: 2,\n",
       " 276: 1,\n",
       " 277: 1,\n",
       " 278: 1,\n",
       " 279: 1,\n",
       " 280: 1,\n",
       " 281: 1,\n",
       " 282: 2,\n",
       " 283: 2,\n",
       " 284: 1,\n",
       " 285: 2,\n",
       " 286: 3,\n",
       " 287: 1,\n",
       " 288: 2,\n",
       " 289: 1,\n",
       " 290: 2,\n",
       " 291: 2,\n",
       " 292: 2,\n",
       " 293: 1,\n",
       " 294: 2,\n",
       " 295: 3,\n",
       " 296: 2,\n",
       " 297: 3,\n",
       " 298: 1,\n",
       " 299: 3,\n",
       " 300: 1,\n",
       " 301: 2,\n",
       " 302: 2,\n",
       " 303: 2,\n",
       " 304: 1,\n",
       " 305: 3,\n",
       " 306: 2,\n",
       " 307: 4,\n",
       " 308: 3,\n",
       " 309: 4,\n",
       " 310: 1,\n",
       " 311: 1,\n",
       " 312: 1,\n",
       " 313: 1,\n",
       " 314: 1,\n",
       " 315: 1,\n",
       " 316: 1,\n",
       " 317: 2,\n",
       " 318: 1,\n",
       " 319: 2,\n",
       " 320: 1,\n",
       " 321: 1,\n",
       " 322: 1,\n",
       " 323: 1,\n",
       " 324: 1,\n",
       " 325: 1,\n",
       " 326: 1,\n",
       " 327: 1,\n",
       " 328: 1,\n",
       " 329: 1,\n",
       " 330: 1,\n",
       " 331: 1,\n",
       " 332: 1,\n",
       " 333: 1,\n",
       " 334: 1,\n",
       " 335: 1,\n",
       " 336: 3,\n",
       " 337: 1,\n",
       " 338: 2,\n",
       " 339: 2,\n",
       " 340: 1,\n",
       " 341: 1}"
      ]
     },
     "execution_count": 158,
     "metadata": {},
     "output_type": "execute_result"
    }
   ],
   "source": [
    "first_clusters"
   ]
  },
  {
   "cell_type": "code",
   "execution_count": 159,
   "metadata": {},
   "outputs": [
    {
     "data": {
      "text/plain": [
       "54"
      ]
     },
     "execution_count": 159,
     "metadata": {},
     "output_type": "execute_result"
    }
   ],
   "source": [
    "sum(1 for x in first_clusters.values() if x > 3)"
   ]
  },
  {
   "cell_type": "code",
   "execution_count": 160,
   "metadata": {},
   "outputs": [
    {
     "name": "stdout",
     "output_type": "stream",
     "text": [
      "0.15835777126099707\n"
     ]
    }
   ],
   "source": [
    "print(54.0/341)"
   ]
  },
  {
   "cell_type": "code",
   "execution_count": 285,
   "metadata": {
    "scrolled": true
   },
   "outputs": [
    {
     "name": "stdout",
     "output_type": "stream",
     "text": [
      "Using matplotlib backend: Qt5Agg\n"
     ]
    }
   ],
   "source": [
    "# %matplotlib\n",
    "\n",
    "# plt.figure(figsize=(10, 8))\n",
    "# plt.scatter(test[:,0], test[:,1], c=clusters, cmap='prism')  # plot points with cluster dependent colors\n",
    "# plt.show()\n",
    "\n",
    "# from sklearn.cluster import AgglomerativeClustering\n",
    "\n",
    "# def perform_clustering(X, title, linkage='ward'):\n",
    "#     plt.figure()\n",
    "#     model = AgglomerativeClustering(linkage=linkage, \n",
    "#                     connectivity=None, n_clusters=None, distance_threshold=.015)\n",
    "#     model.fit(X)\n",
    "\n",
    "#     # extract labels\n",
    "#     labels = model.labels_\n",
    "\n",
    "#     # specify marker shapes for different clusters\n",
    "#     markers = '.vx'\n",
    "\n",
    "#     for i, marker in zip(range(num_clusters), markers):\n",
    "#         # plot the points belong to the current cluster\n",
    "#         plt.scatter(X[labels==i, 0], X[labels==i, 1], s=50, \n",
    "#                     marker=marker, color='k', facecolors='none')\n",
    "\n",
    "#     plt.title(title)\n",
    "\n",
    "# #perform_clustering(test, 'test1', 'ward')"
   ]
  }
 ],
 "metadata": {
  "kernelspec": {
   "display_name": "Python 3",
   "language": "python",
   "name": "python3"
  },
  "language_info": {
   "codemirror_mode": {
    "name": "ipython",
    "version": 3
   },
   "file_extension": ".py",
   "mimetype": "text/x-python",
   "name": "python",
   "nbconvert_exporter": "python",
   "pygments_lexer": "ipython3",
   "version": "3.7.3"
  }
 },
 "nbformat": 4,
 "nbformat_minor": 2
}
